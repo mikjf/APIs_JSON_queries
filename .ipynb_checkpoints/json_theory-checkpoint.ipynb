{
 "cells": [
  {
   "cell_type": "markdown",
   "id": "fe7809cf-a4a2-4be0-b2b7-eab7aea059ae",
   "metadata": {},
   "source": [
    "# JSON theroy"
   ]
  },
  {
   "cell_type": "markdown",
   "id": "64982304-d8b7-4f96-859c-8b71009b7c7d",
   "metadata": {},
   "source": [
    "Here is an overview on how to create, read and write JSON files using Requests, REST APIs and JSON."
   ]
  },
  {
   "cell_type": "code",
   "execution_count": 60,
   "id": "a22c2e88-5b15-4224-91b0-3a80186820c0",
   "metadata": {},
   "outputs": [
    {
     "name": "stdout",
     "output_type": "stream",
     "text": [
      "The lab_black extension is already loaded. To reload it, use:\n",
      "  %reload_ext lab_black\n"
     ]
    }
   ],
   "source": [
    "# extension to help clean python code\n",
    "%load_ext lab_black"
   ]
  },
  {
   "cell_type": "markdown",
   "id": "90f2e4f8-469a-4dd6-9ad0-baa0e4ace068",
   "metadata": {},
   "source": [
    "## 1. Packages to install"
   ]
  },
  {
   "cell_type": "code",
   "execution_count": 61,
   "id": "ba0e628e-569b-4fef-978c-4b51e560822e",
   "metadata": {},
   "outputs": [],
   "source": [
    "# import json package\n",
    "import json\n",
    "\n",
    "# import requests package\n",
    "import requests\n",
    "\n",
    "# import pandas software library\n",
    "import pandas as pd\n",
    "\n",
    "# normalize semi-structured JSON data into a flat table\n",
    "from pandas import json_normalize"
   ]
  },
  {
   "cell_type": "markdown",
   "id": "b50e44c1-af50-47f1-95fe-e530bf80ce61",
   "metadata": {},
   "source": [
    "## 2. JSON strings"
   ]
  },
  {
   "cell_type": "markdown",
   "id": "8be6dba7-fa26-4dbe-ac40-c49ead25b63c",
   "metadata": {},
   "source": [
    "JSON (Javascript Object Notation) is the standard for exchanging data between the client (browser and the server. It is made of a set key/value paire to serialise objects in an easy way."
   ]
  },
  {
   "cell_type": "code",
   "execution_count": 62,
   "id": "91c604e7-023b-4a5c-805c-746cabaa655e",
   "metadata": {},
   "outputs": [],
   "source": [
    "# create a random JSON string\n",
    "json_string = \"\"\"\n",
    "{\n",
    " \"batch_tag\": \"March 2023\", \n",
    " \"start_date\": {\"month\": \"08\"}, \n",
    " \"curriculum\": {\"Week1\": \"Introduction to DS\", \"Week2\":\"JSON theory\"},  \n",
    " \"students\": [\n",
    "             {\"name\": \"Mik\", \"surname\": \"Flu\"},\n",
    "             {\"name\": \"Michel\", \"surname\": \"Flumen\"},\n",
    "             {\"name\": \"Michael\", \"surname\": \"Fluffy\"}\n",
    "             ]\n",
    "}\n",
    "\"\"\""
   ]
  },
  {
   "cell_type": "code",
   "execution_count": 63,
   "id": "8deef163-5641-4990-902f-cb80109aa084",
   "metadata": {},
   "outputs": [
    {
     "data": {
      "text/plain": [
       "str"
      ]
     },
     "execution_count": 63,
     "metadata": {},
     "output_type": "execute_result"
    }
   ],
   "source": [
    "# check type\n",
    "type(json_string)"
   ]
  },
  {
   "cell_type": "code",
   "execution_count": 64,
   "id": "b4ee29a5-1314-43da-92b7-de7f22e7e02a",
   "metadata": {},
   "outputs": [
    {
     "data": {
      "text/plain": [
       "'\\n{\\n \"batch_tag\": \"March 2023\", \\n \"start_date\": {\"month\": \"08\"}, \\n \"curriculum\": {\"Week1\": \"Introduction to DS\", \"Week2\":\"JSON theory\"},  \\n \"students\": [\\n             {\"name\": \"Mik\", \"surname\": \"Flu\"},\\n             {\"name\": \"Michel\", \"surname\": \"Flumen\"},\\n             {\"name\": \"Michael\", \"surname\": \"Fluffy\"}\\n             ]\\n}\\n'"
      ]
     },
     "execution_count": 64,
     "metadata": {},
     "output_type": "execute_result"
    }
   ],
   "source": [
    "# how the variable looks like (\\n -> on a new line)\n",
    "json_string"
   ]
  },
  {
   "cell_type": "markdown",
   "id": "c3a2dcbf-7249-4710-8544-9180fb4d4853",
   "metadata": {},
   "source": [
    "## 3. Serialization and Deserialization"
   ]
  },
  {
   "cell_type": "markdown",
   "id": "0aeb4a21-ac75-4f58-88b5-8865ed4a4db4",
   "metadata": {},
   "source": [
    "- Serialization -> convert data into a suitable format to be sent over the network\n",
    "- Deserialization -> from network format to local data"
   ]
  },
  {
   "cell_type": "markdown",
   "id": "a5153280-4c04-4994-897f-98c4ff416284",
   "metadata": {},
   "source": [
    "### 3.1 Deserialization (receive reply from server to local)"
   ]
  },
  {
   "cell_type": "code",
   "execution_count": 65,
   "id": "ca8b884e-ed06-4028-85fc-060332fa17c8",
   "metadata": {},
   "outputs": [
    {
     "data": {
      "text/plain": [
       "{'batch_tag': 'March 2023',\n",
       " 'start_date': {'month': '08'},\n",
       " 'curriculum': {'Week1': 'Introduction to DS', 'Week2': 'JSON theory'},\n",
       " 'students': [{'name': 'Mik', 'surname': 'Flu'},\n",
       "  {'name': 'Michel', 'surname': 'Flumen'},\n",
       "  {'name': 'Michael', 'surname': 'Fluffy'}]}"
      ]
     },
     "execution_count": 65,
     "metadata": {},
     "output_type": "execute_result"
    }
   ],
   "source": [
    "# load json from strings\n",
    "# deserialize\n",
    "# get python dictionary\n",
    "dict_from_string = json.loads(json_string)\n",
    "dict_from_string"
   ]
  },
  {
   "cell_type": "code",
   "execution_count": 66,
   "id": "2372d16b-5482-474c-af42-75a566802589",
   "metadata": {},
   "outputs": [
    {
     "data": {
      "text/plain": [
       "dict"
      ]
     },
     "execution_count": 66,
     "metadata": {},
     "output_type": "execute_result"
    }
   ],
   "source": [
    "# check type\n",
    "type(dict_from_string)"
   ]
  },
  {
   "cell_type": "code",
   "execution_count": 67,
   "id": "9c90b5fa-afa6-4961-9207-bea09b1ba1d5",
   "metadata": {},
   "outputs": [
    {
     "data": {
      "text/plain": [
       "dict_keys(['batch_tag', 'start_date', 'curriculum', 'students'])"
      ]
     },
     "execution_count": 67,
     "metadata": {},
     "output_type": "execute_result"
    }
   ],
   "source": [
    "# get dictionary keys\n",
    "dict_from_string.keys()"
   ]
  },
  {
   "cell_type": "code",
   "execution_count": 68,
   "id": "5cbeda32-35eb-4346-9c90-95099235d632",
   "metadata": {},
   "outputs": [
    {
     "data": {
      "text/plain": [
       "dict_values(['March 2023', {'month': '08'}, {'Week1': 'Introduction to DS', 'Week2': 'JSON theory'}, [{'name': 'Mik', 'surname': 'Flu'}, {'name': 'Michel', 'surname': 'Flumen'}, {'name': 'Michael', 'surname': 'Fluffy'}]])"
      ]
     },
     "execution_count": 68,
     "metadata": {},
     "output_type": "execute_result"
    }
   ],
   "source": [
    "# get dictionary values\n",
    "dict_from_string.values()"
   ]
  },
  {
   "cell_type": "code",
   "execution_count": 69,
   "id": "9658aa27-7a40-4678-b753-de89669c6ccf",
   "metadata": {},
   "outputs": [
    {
     "data": {
      "text/plain": [
       "dict_items([('batch_tag', 'March 2023'), ('start_date', {'month': '08'}), ('curriculum', {'Week1': 'Introduction to DS', 'Week2': 'JSON theory'}), ('students', [{'name': 'Mik', 'surname': 'Flu'}, {'name': 'Michel', 'surname': 'Flumen'}, {'name': 'Michael', 'surname': 'Fluffy'}])])"
      ]
     },
     "execution_count": 69,
     "metadata": {},
     "output_type": "execute_result"
    }
   ],
   "source": [
    "# get tuple with keys and values\n",
    "dict_from_string.items()"
   ]
  },
  {
   "cell_type": "markdown",
   "id": "0316be1d-c082-4fe8-902b-d9f4a756e81b",
   "metadata": {},
   "source": [
    "Python JSON files are deserialized as dictionaries, however, 'key' should be always immutable (cannot be a list or another dictionary as they are mutable). 'value', on the other hand, can be almost everything."
   ]
  },
  {
   "cell_type": "markdown",
   "id": "da9bc3a1-23e5-4152-882a-301920e86cdb",
   "metadata": {},
   "source": [
    "### 3.2 Serialization (pass arguments to remote network)"
   ]
  },
  {
   "cell_type": "code",
   "execution_count": 70,
   "id": "ec362418-6d35-4ccb-a370-b8e5f684cb1a",
   "metadata": {},
   "outputs": [
    {
     "data": {
      "text/plain": [
       "'{\"batch_tag\": \"March 2023\", \"start_date\": {\"month\": \"08\"}, \"curriculum\": {\"Week1\": \"Introduction to DS\", \"Week2\": \"JSON theory\"}, \"students\": [{\"name\": \"Mik\", \"surname\": \"Flu\"}, {\"name\": \"Michel\", \"surname\": \"Flumen\"}, {\"name\": \"Michael\", \"surname\": \"Fluffy\"}]}'"
      ]
     },
     "execution_count": 70,
     "metadata": {},
     "output_type": "execute_result"
    }
   ],
   "source": [
    "# dump json into string\n",
    "# serialize to JSON formatted str\n",
    "# get JSON string representation of the python dictionary\n",
    "new_json_string = json.dumps(dict_from_string)\n",
    "new_json_string"
   ]
  },
  {
   "cell_type": "code",
   "execution_count": 71,
   "id": "7ffbd1cc-e969-4297-bd08-9fa5bb464768",
   "metadata": {},
   "outputs": [
    {
     "data": {
      "text/plain": [
       "str"
      ]
     },
     "execution_count": 71,
     "metadata": {},
     "output_type": "execute_result"
    }
   ],
   "source": [
    "# check type\n",
    "type(new_json_string)"
   ]
  },
  {
   "cell_type": "markdown",
   "id": "2b1144f7-4add-4ca7-829e-92f29a07e4ea",
   "metadata": {},
   "source": [
    "## 4. Write and read JSON files"
   ]
  },
  {
   "cell_type": "markdown",
   "id": "fea17d88-f7fe-45be-a106-1791676295ad",
   "metadata": {},
   "source": [
    "### 4.1 Write (save)"
   ]
  },
  {
   "cell_type": "code",
   "execution_count": 83,
   "id": "bc34466b-b58b-42a1-b4ca-3297dd1fa20c",
   "metadata": {},
   "outputs": [],
   "source": [
    "# save (dump) string as json file (not a dictionary)\n",
    "with open(\"introduction_to_ds\", \"w\") as output:\n",
    "    json.dump(dict_from_string, output)\n",
    "\n",
    "# 'w' is writing\n",
    "# 'r' is reading (default mode)\n",
    "# dump does not keep it in memory"
   ]
  },
  {
   "cell_type": "markdown",
   "id": "c9c299e7-c001-478a-a8ae-56ea1a09335b",
   "metadata": {},
   "source": [
    "### 4.2 Read (open)"
   ]
  },
  {
   "cell_type": "code",
   "execution_count": 84,
   "id": "74301ae7-7e28-40b7-a40f-73397b5b37cf",
   "metadata": {},
   "outputs": [
    {
     "data": {
      "text/plain": [
       "{'batch_tag': 'March 2023',\n",
       " 'start_date': {'month': '08'},\n",
       " 'curriculum': {'Week1': 'Introduction to DS', 'Week2': 'JSON theory'},\n",
       " 'students': [{'name': 'Mik', 'surname': 'Flu'},\n",
       "  {'name': 'Michel', 'surname': 'Flumen'},\n",
       "  {'name': 'Michael', 'surname': 'Fluffy'}]}"
      ]
     },
     "execution_count": 84,
     "metadata": {},
     "output_type": "execute_result"
    }
   ],
   "source": [
    "# open (load) as json file (as dictionary)\n",
    "with open(\"introduction_to_ds\") as json_file:\n",
    "    data_json1 = json.load(\n",
    "        json_file\n",
    "    )  # different from .loads for a string, this is a json file\n",
    "\n",
    "data_json1"
   ]
  },
  {
   "cell_type": "code",
   "execution_count": 88,
   "id": "b5f37a76-0594-4dca-8c31-d3bef997b41f",
   "metadata": {},
   "outputs": [
    {
     "data": {
      "text/plain": [
       "{'batch_tag': 'March 2023',\n",
       " 'start_date': {'month': '08'},\n",
       " 'curriculum': {'Week1': 'Introduction to DS', 'Week2': 'JSON theory'},\n",
       " 'students': [{'name': 'Mik', 'surname': 'Flu'},\n",
       "  {'name': 'Michel', 'surname': 'Flumen'},\n",
       "  {'name': 'Michael', 'surname': 'Fluffy'}]}"
      ]
     },
     "execution_count": 88,
     "metadata": {},
     "output_type": "execute_result"
    }
   ],
   "source": [
    "# another way to open (load) as json file\n",
    "data_json2 = json.load(open(\"introduction_to_ds\"))\n",
    "\n",
    "data_json2"
   ]
  },
  {
   "cell_type": "code",
   "execution_count": 91,
   "id": "5b0b0940-21e1-4a22-abf0-9b2fc336a7aa",
   "metadata": {},
   "outputs": [
    {
     "data": {
      "text/plain": [
       "(dict, dict)"
      ]
     },
     "execution_count": 91,
     "metadata": {},
     "output_type": "execute_result"
    }
   ],
   "source": [
    "type(data_json1), type(data_json2)"
   ]
  },
  {
   "cell_type": "markdown",
   "id": "6afe0e35-f441-4a09-88f3-b7e4f3e433dd",
   "metadata": {},
   "source": [
    "## 5. Read JSON from URL"
   ]
  },
  {
   "cell_type": "code",
   "execution_count": null,
   "id": "33457691-b7e4-4e27-a622-06ef61a7465e",
   "metadata": {},
   "outputs": [],
   "source": []
  }
 ],
 "metadata": {
  "kernelspec": {
   "display_name": "projects",
   "language": "python",
   "name": "projects"
  },
  "language_info": {
   "codemirror_mode": {
    "name": "ipython",
    "version": 3
   },
   "file_extension": ".py",
   "mimetype": "text/x-python",
   "name": "python",
   "nbconvert_exporter": "python",
   "pygments_lexer": "ipython3",
   "version": "3.10.9"
  }
 },
 "nbformat": 4,
 "nbformat_minor": 5
}
