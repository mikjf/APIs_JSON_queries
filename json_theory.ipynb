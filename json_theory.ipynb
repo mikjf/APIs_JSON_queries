{
 "cells": [
  {
   "cell_type": "markdown",
   "id": "fe7809cf-a4a2-4be0-b2b7-eab7aea059ae",
   "metadata": {},
   "source": [
    "# JSON theroy"
   ]
  },
  {
   "cell_type": "markdown",
   "id": "64982304-d8b7-4f96-859c-8b71009b7c7d",
   "metadata": {},
   "source": [
    "Here is an overview on how to create, read and write JSON files using Requests, REST APIs and JSON."
   ]
  },
  {
   "cell_type": "code",
   "execution_count": 1,
   "id": "a22c2e88-5b15-4224-91b0-3a80186820c0",
   "metadata": {},
   "outputs": [],
   "source": [
    "# extension to help clean python code\n",
    "%load_ext lab_black"
   ]
  },
  {
   "cell_type": "markdown",
   "id": "90f2e4f8-469a-4dd6-9ad0-baa0e4ace068",
   "metadata": {},
   "source": [
    "## 1. Packages to install"
   ]
  },
  {
   "cell_type": "code",
   "execution_count": 2,
   "id": "ba0e628e-569b-4fef-978c-4b51e560822e",
   "metadata": {},
   "outputs": [],
   "source": [
    "# import json package\n",
    "import json\n",
    "\n",
    "# import requests package\n",
    "import requests\n",
    "\n",
    "# import pandas software library\n",
    "import pandas as pd\n",
    "\n",
    "# normalize semi-structured JSON data into a flat table\n",
    "from pandas import json_normalize"
   ]
  },
  {
   "cell_type": "markdown",
   "id": "b50e44c1-af50-47f1-95fe-e530bf80ce61",
   "metadata": {},
   "source": [
    "## 2. JSON strings"
   ]
  },
  {
   "cell_type": "markdown",
   "id": "8be6dba7-fa26-4dbe-ac40-c49ead25b63c",
   "metadata": {},
   "source": [
    "JSON (Javascript Object Notation) is the standard for exchanging data between the client (browser and the server. It is made of a set key/value paire to serialise objects in an easy way."
   ]
  },
  {
   "cell_type": "code",
   "execution_count": 3,
   "id": "91c604e7-023b-4a5c-805c-746cabaa655e",
   "metadata": {},
   "outputs": [],
   "source": [
    "# create a random JSON string\n",
    "json_string = \"\"\"\n",
    "{\n",
    " \"batch_tag\": \"March 2023\", \n",
    " \"start_date\": {\"month\": \"08\"}, \n",
    " \"curriculum\": {\"Week1\": \"Introduction to DS\", \"Week2\":\"JSON theory\"},  \n",
    " \"students\": [\n",
    "             {\"name\": \"Mik\", \"surname\": \"Flu\"},\n",
    "             {\"name\": \"Michel\", \"surname\": \"Flumen\"},\n",
    "             {\"name\": \"Michael\", \"surname\": \"Fluffy\"}\n",
    "             ]\n",
    "}\n",
    "\"\"\""
   ]
  },
  {
   "cell_type": "code",
   "execution_count": 4,
   "id": "8deef163-5641-4990-902f-cb80109aa084",
   "metadata": {},
   "outputs": [
    {
     "data": {
      "text/plain": [
       "str"
      ]
     },
     "execution_count": 4,
     "metadata": {},
     "output_type": "execute_result"
    }
   ],
   "source": [
    "# check type\n",
    "type(json_string)"
   ]
  },
  {
   "cell_type": "code",
   "execution_count": 5,
   "id": "b4ee29a5-1314-43da-92b7-de7f22e7e02a",
   "metadata": {},
   "outputs": [
    {
     "data": {
      "text/plain": [
       "'\\n{\\n \"batch_tag\": \"March 2023\", \\n \"start_date\": {\"month\": \"08\"}, \\n \"curriculum\": {\"Week1\": \"Introduction to DS\", \"Week2\":\"JSON theory\"},  \\n \"students\": [\\n             {\"name\": \"Mik\", \"surname\": \"Flu\"},\\n             {\"name\": \"Michel\", \"surname\": \"Flumen\"},\\n             {\"name\": \"Michael\", \"surname\": \"Fluffy\"}\\n             ]\\n}\\n'"
      ]
     },
     "execution_count": 5,
     "metadata": {},
     "output_type": "execute_result"
    }
   ],
   "source": [
    "# how the variable looks like (\\n -> on a new line)\n",
    "json_string"
   ]
  },
  {
   "cell_type": "markdown",
   "id": "c3a2dcbf-7249-4710-8544-9180fb4d4853",
   "metadata": {},
   "source": [
    "## 3. Serialization and Deserialization"
   ]
  },
  {
   "cell_type": "markdown",
   "id": "0aeb4a21-ac75-4f58-88b5-8865ed4a4db4",
   "metadata": {},
   "source": [
    "- Serialization -> convert data into a suitable format to be sent over the network\n",
    "- Deserialization -> from network format to local data"
   ]
  },
  {
   "cell_type": "markdown",
   "id": "a5153280-4c04-4994-897f-98c4ff416284",
   "metadata": {},
   "source": [
    "### 3.1 Deserialization (receive reply from server to local)"
   ]
  },
  {
   "cell_type": "code",
   "execution_count": 6,
   "id": "ca8b884e-ed06-4028-85fc-060332fa17c8",
   "metadata": {},
   "outputs": [
    {
     "data": {
      "text/plain": [
       "{'batch_tag': 'March 2023',\n",
       " 'start_date': {'month': '08'},\n",
       " 'curriculum': {'Week1': 'Introduction to DS', 'Week2': 'JSON theory'},\n",
       " 'students': [{'name': 'Mik', 'surname': 'Flu'},\n",
       "  {'name': 'Michel', 'surname': 'Flumen'},\n",
       "  {'name': 'Michael', 'surname': 'Fluffy'}]}"
      ]
     },
     "execution_count": 6,
     "metadata": {},
     "output_type": "execute_result"
    }
   ],
   "source": [
    "# load json from strings\n",
    "# deserialize\n",
    "# get python dictionary\n",
    "dict_from_string = json.loads(json_string)\n",
    "dict_from_string"
   ]
  },
  {
   "cell_type": "code",
   "execution_count": 7,
   "id": "2372d16b-5482-474c-af42-75a566802589",
   "metadata": {},
   "outputs": [
    {
     "data": {
      "text/plain": [
       "dict"
      ]
     },
     "execution_count": 7,
     "metadata": {},
     "output_type": "execute_result"
    }
   ],
   "source": [
    "# check type\n",
    "type(dict_from_string)"
   ]
  },
  {
   "cell_type": "code",
   "execution_count": 8,
   "id": "9c90b5fa-afa6-4961-9207-bea09b1ba1d5",
   "metadata": {},
   "outputs": [
    {
     "data": {
      "text/plain": [
       "dict_keys(['batch_tag', 'start_date', 'curriculum', 'students'])"
      ]
     },
     "execution_count": 8,
     "metadata": {},
     "output_type": "execute_result"
    }
   ],
   "source": [
    "# get dictionary keys\n",
    "dict_from_string.keys()"
   ]
  },
  {
   "cell_type": "code",
   "execution_count": 9,
   "id": "5cbeda32-35eb-4346-9c90-95099235d632",
   "metadata": {},
   "outputs": [
    {
     "data": {
      "text/plain": [
       "dict_values(['March 2023', {'month': '08'}, {'Week1': 'Introduction to DS', 'Week2': 'JSON theory'}, [{'name': 'Mik', 'surname': 'Flu'}, {'name': 'Michel', 'surname': 'Flumen'}, {'name': 'Michael', 'surname': 'Fluffy'}]])"
      ]
     },
     "execution_count": 9,
     "metadata": {},
     "output_type": "execute_result"
    }
   ],
   "source": [
    "# get dictionary values\n",
    "dict_from_string.values()"
   ]
  },
  {
   "cell_type": "code",
   "execution_count": 10,
   "id": "9658aa27-7a40-4678-b753-de89669c6ccf",
   "metadata": {},
   "outputs": [
    {
     "data": {
      "text/plain": [
       "dict_items([('batch_tag', 'March 2023'), ('start_date', {'month': '08'}), ('curriculum', {'Week1': 'Introduction to DS', 'Week2': 'JSON theory'}), ('students', [{'name': 'Mik', 'surname': 'Flu'}, {'name': 'Michel', 'surname': 'Flumen'}, {'name': 'Michael', 'surname': 'Fluffy'}])])"
      ]
     },
     "execution_count": 10,
     "metadata": {},
     "output_type": "execute_result"
    }
   ],
   "source": [
    "# get tuple with keys and values\n",
    "dict_from_string.items()"
   ]
  },
  {
   "cell_type": "markdown",
   "id": "0316be1d-c082-4fe8-902b-d9f4a756e81b",
   "metadata": {},
   "source": [
    "Python JSON files are deserialized as dictionaries, however, 'key' should be always immutable (cannot be a list or another dictionary as they are mutable). 'value', on the other hand, can be almost everything."
   ]
  },
  {
   "cell_type": "markdown",
   "id": "da9bc3a1-23e5-4152-882a-301920e86cdb",
   "metadata": {},
   "source": [
    "### 3.2 Serialization (pass arguments to remote network)"
   ]
  },
  {
   "cell_type": "code",
   "execution_count": 11,
   "id": "ec362418-6d35-4ccb-a370-b8e5f684cb1a",
   "metadata": {},
   "outputs": [
    {
     "data": {
      "text/plain": [
       "'{\"batch_tag\": \"March 2023\", \"start_date\": {\"month\": \"08\"}, \"curriculum\": {\"Week1\": \"Introduction to DS\", \"Week2\": \"JSON theory\"}, \"students\": [{\"name\": \"Mik\", \"surname\": \"Flu\"}, {\"name\": \"Michel\", \"surname\": \"Flumen\"}, {\"name\": \"Michael\", \"surname\": \"Fluffy\"}]}'"
      ]
     },
     "execution_count": 11,
     "metadata": {},
     "output_type": "execute_result"
    }
   ],
   "source": [
    "# dump json into string\n",
    "# serialize to JSON formatted str\n",
    "# get JSON string representation of the python dictionary\n",
    "new_json_string = json.dumps(dict_from_string)\n",
    "new_json_string"
   ]
  },
  {
   "cell_type": "code",
   "execution_count": 12,
   "id": "7ffbd1cc-e969-4297-bd08-9fa5bb464768",
   "metadata": {},
   "outputs": [
    {
     "data": {
      "text/plain": [
       "str"
      ]
     },
     "execution_count": 12,
     "metadata": {},
     "output_type": "execute_result"
    }
   ],
   "source": [
    "# check type\n",
    "type(new_json_string)"
   ]
  },
  {
   "cell_type": "markdown",
   "id": "2b1144f7-4add-4ca7-829e-92f29a07e4ea",
   "metadata": {},
   "source": [
    "## 4. Write and read JSON files"
   ]
  },
  {
   "cell_type": "markdown",
   "id": "fea17d88-f7fe-45be-a106-1791676295ad",
   "metadata": {},
   "source": [
    "### 4.1 Write (save)"
   ]
  },
  {
   "cell_type": "code",
   "execution_count": 13,
   "id": "bc34466b-b58b-42a1-b4ca-3297dd1fa20c",
   "metadata": {},
   "outputs": [],
   "source": [
    "# save (dump) string as json file (not a dictionary)\n",
    "with open(\"introduction_to_ds\", \"w\") as output:\n",
    "    json.dump(dict_from_string, output)\n",
    "\n",
    "# 'w' is writing\n",
    "# 'r' is reading (default mode)\n",
    "# dump does not keep it in memory"
   ]
  },
  {
   "cell_type": "markdown",
   "id": "c9c299e7-c001-478a-a8ae-56ea1a09335b",
   "metadata": {},
   "source": [
    "### 4.2 Read (open)"
   ]
  },
  {
   "cell_type": "code",
   "execution_count": 14,
   "id": "74301ae7-7e28-40b7-a40f-73397b5b37cf",
   "metadata": {},
   "outputs": [
    {
     "data": {
      "text/plain": [
       "{'batch_tag': 'March 2023',\n",
       " 'start_date': {'month': '08'},\n",
       " 'curriculum': {'Week1': 'Introduction to DS', 'Week2': 'JSON theory'},\n",
       " 'students': [{'name': 'Mik', 'surname': 'Flu'},\n",
       "  {'name': 'Michel', 'surname': 'Flumen'},\n",
       "  {'name': 'Michael', 'surname': 'Fluffy'}]}"
      ]
     },
     "execution_count": 14,
     "metadata": {},
     "output_type": "execute_result"
    }
   ],
   "source": [
    "# open (load) as json file (as dictionary)\n",
    "with open(\"introduction_to_ds\") as json_file:\n",
    "    data_json1 = json.load(\n",
    "        json_file\n",
    "    )  # different from .loads for a string, this is a json file\n",
    "\n",
    "data_json1"
   ]
  },
  {
   "cell_type": "code",
   "execution_count": 15,
   "id": "b5f37a76-0594-4dca-8c31-d3bef997b41f",
   "metadata": {},
   "outputs": [
    {
     "data": {
      "text/plain": [
       "{'batch_tag': 'March 2023',\n",
       " 'start_date': {'month': '08'},\n",
       " 'curriculum': {'Week1': 'Introduction to DS', 'Week2': 'JSON theory'},\n",
       " 'students': [{'name': 'Mik', 'surname': 'Flu'},\n",
       "  {'name': 'Michel', 'surname': 'Flumen'},\n",
       "  {'name': 'Michael', 'surname': 'Fluffy'}]}"
      ]
     },
     "execution_count": 15,
     "metadata": {},
     "output_type": "execute_result"
    }
   ],
   "source": [
    "# another way to open (load) as json file\n",
    "data_json2 = json.load(open(\"introduction_to_ds\"))\n",
    "\n",
    "data_json2"
   ]
  },
  {
   "cell_type": "code",
   "execution_count": 16,
   "id": "5b0b0940-21e1-4a22-abf0-9b2fc336a7aa",
   "metadata": {},
   "outputs": [
    {
     "data": {
      "text/plain": [
       "(dict, dict)"
      ]
     },
     "execution_count": 16,
     "metadata": {},
     "output_type": "execute_result"
    }
   ],
   "source": [
    "type(data_json1), type(data_json2)"
   ]
  },
  {
   "cell_type": "markdown",
   "id": "6afe0e35-f441-4a09-88f3-b7e4f3e433dd",
   "metadata": {},
   "source": [
    "## 5. Read JSON from URL"
   ]
  },
  {
   "cell_type": "markdown",
   "id": "6b792956-fd45-4f74-b383-83de036c6fab",
   "metadata": {},
   "source": [
    "To load a .json from a URL just use 'requests' library and the 'get' function to send a HTTPS request to the URL. Once received, deserialize the attribute to get the python dictionary."
   ]
  },
  {
   "cell_type": "code",
   "execution_count": 17,
   "id": "f8de4ae8-03ca-4f91-adb9-d04ed3eaeb9e",
   "metadata": {},
   "outputs": [],
   "source": [
    "# url\n",
    "url = \"http://data.nba.net/prod/v1/20221026/0022200056_boxscore.json\""
   ]
  },
  {
   "cell_type": "code",
   "execution_count": 18,
   "id": "4379e624-a54d-4521-918b-0d90f9f91d9f",
   "metadata": {},
   "outputs": [],
   "source": [
    "# get function using requests package\n",
    "response = requests.get(url)"
   ]
  },
  {
   "cell_type": "code",
   "execution_count": 19,
   "id": "ea178086-e6bf-4d24-8c01-2b00b4083e80",
   "metadata": {},
   "outputs": [
    {
     "data": {
      "text/plain": [
       "b'{\"_internal\":{\"pubDateTime\":\"2022-10-12 16:41:46.979 EDT\",\"igorPath\":\"domUpdater,1665607306006,1665607306822|feedProducer,1665607306886,1665607306991\",\"routeName\":\"schedule_sync\",\"routeValue\":\"2022_0022200056_20221026_schedule_sync\",\"xslt\":\"NBA/xsl/game/boxscore/marty_boxscore.xsl\",\"xsltForceRecompile\":\"true\",\"xsltInCache\":\"false\",\"xsltCompileTimeMillis\":\"79\",\"xsltTransformTimeMillis\":\"12\",\"consolidatedDomKey\":\"prod__transform__marty_boxscore__1662527206251\",\"endToEndTimeMillis\":\"985\"},\"basicGameData\":{\"seasonStageId\":2,\"seasonYear\":\"2022\",\"leagueName\":\"standard\",\"gameId\":\"0022200056\",\"arena\":{\"name\":\"Rocket Mortgage FieldHouse\",\"isDomestic\":true,\"city\":\"Cleveland\",\"stateAbbr\":\"OH\",\"country\":\"USA\"},\"isGameActivated\":false,\"statusNum\":1,\"extendedStatusNum\":0,\"startTimeEastern\":\"7:00 PM ET\",\"startTimeUTC\":\"2022-10-26T23:00:00.000Z\",\"startDateEastern\":\"20221026\",\"homeStartDate\":\"20221026\",\"homeStartTime\":\"1900\",\"visitorStartDate\":\"20221026\",\"visitorStartTime\":\"1900\",\"gameUrlCode\":\"20221026/ORLCLE\",\"clock\":\"\",\"isBuzzerBeater\":false,\"isPreviewArticleAvail\":false,\"isRecapArticleAvail\":false,\"nugget\":{\"text\":\"\"},\"attendance\":\"\",\"tickets\":{\"mobileApp\":\"https://a.data.nba.com/tickets/single/2022/0022200056/APP_TIX\",\"desktopWeb\":\"https://a.data.nba.com/tickets/single/2022/0022200056/TEAM_SCH\",\"mobileWeb\":\"https://a.data.nba.com/tickets/single/2022/0022200056/WEB_MWEB\",\"leagGameInfo\":\"https://a.data.nba.com/tickets/single/2022/0022200056/LEAG_GAMEINFO\",\"leagTix\":\"https://a.data.nba.com/tickets/single/2022/0022200056/LEAG_TIX\"},\"hasGameBookPdf\":false,\"isStartTimeTBD\":false,\"isNeutralVenue\":false,\"gameDuration\":{\"hours\":\"\",\"minutes\":\"\"},\"period\":{\"current\":0,\"type\":0,\"maxRegular\":4,\"isHalftime\":false,\"isEndOfPeriod\":false},\"vTeam\":{\"teamId\":\"1610612753\",\"triCode\":\"ORL\",\"win\":\"0\",\"loss\":\"0\",\"seriesWin\":\"\",\"seriesLoss\":\"\",\"score\":\"\",\"linescore\":[]},\"hTeam\":{\"teamId\":\"1610612739\",\"triCode\":\"CLE\",\"win\":\"0\",\"loss\":\"0\",\"seriesWin\":\"\",\"seriesLoss\":\"\",\"score\":\"\",\"linescore\":[]},\"watch\":{\"broadcast\":{\"broadcasters\":{\"national\":[],\"canadian\":[],\"vTeam\":[{\"shortName\":\"BSFL\",\"longName\":\"Bally Sports Florida\"}],\"hTeam\":[{\"shortName\":\"BSOH\",\"longName\":\"Bally Sports Ohio\"}],\"spanish_hTeam\":[],\"spanish_vTeam\":[],\"spanish_national\":[]},\"video\":{\"regionalBlackoutCodes\":\"cler_miar\",\"canPurchase\":false,\"isLeaguePass\":true,\"isNationalBlackout\":false,\"isTNTOT\":false,\"isVR\":false,\"tntotIsOnAir\":false,\"isNextVR\":false,\"isNBAOnTNTVR\":false,\"isMagicLeap\":false,\"isOculusVenues\":false,\"streams\":[{\"streamType\":\"vTeam\",\"isOnAir\":false,\"doesArchiveExist\":false,\"isArchiveAvailToWatch\":false,\"streamId\":\"\",\"duration\":0},{\"streamType\":\"hTeam\",\"isOnAir\":false,\"doesArchiveExist\":false,\"isArchiveAvailToWatch\":false,\"streamId\":\"\",\"duration\":0},{\"streamType\":\"espanol_vTeam\",\"isOnAir\":false,\"doesArchiveExist\":false,\"isArchiveAvailToWatch\":false,\"streamId\":\"\",\"duration\":0},{\"streamType\":\"espanol_hTeam\",\"isOnAir\":false,\"doesArchiveExist\":false,\"isArchiveAvailToWatch\":false,\"streamId\":\"\",\"duration\":0},{\"streamType\":\"espanol_natl\",\"isOnAir\":false,\"doesArchiveExist\":false,\"isArchiveAvailToWatch\":false,\"streamId\":\"\",\"duration\":0},{\"streamType\":\"mobile\",\"isOnAir\":false,\"doesArchiveExist\":false,\"isArchiveAvailToWatch\":false,\"streamId\":\"\",\"duration\":0},{\"streamType\":\"condensed\",\"isOnAir\":false,\"doesArchiveExist\":false,\"isArchiveAvailToWatch\":false,\"streamId\":\"\",\"duration\":0},{\"streamType\":\"alt\",\"isOnAir\":false,\"doesArchiveExist\":false,\"isArchiveAvailToWatch\":false,\"streamId\":\"\",\"duration\":0}],\"deepLink\":[]},\"audio\":{\"national\":{\"streams\":[{\"language\":\"English\",\"isOnAir\":false,\"streamId\":\"\"},{\"language\":\"Spanish\",\"isOnAir\":false,\"streamId\":\"\"}],\"broadcasters\":[]},\"vTeam\":{\"streams\":[{\"language\":\"English\",\"isOnAir\":false,\"streamId\":\"\"},{\"language\":\"Spanish\",\"isOnAir\":false,\"streamId\":\"\"}],\"broadcasters\":[{\"shortName\":\"WYGM 96.9FM / 740AM\",\"longName\":\"WYGM 96.9FM / 740AM\"}]},\"hTeam\":{\"streams\":[{\"language\":\"English\",\"isOnAir\":false,\"streamId\":\"\"},{\"language\":\"Spanish\",\"isOnAir\":false,\"streamId\":\"\"}],\"broadcasters\":[{\"shortName\":\"WTAM/WMMS/WNZN\",\"longName\":\"WTAM/WMMS/WNZN\"}]}}}},\"officials\":{\"formatted\":[]}},\"previousMatchup\":{\"gameId\":\"0022101179\",\"gameDate\":\"20220405\"}}'"
      ]
     },
     "execution_count": 19,
     "metadata": {},
     "output_type": "execute_result"
    }
   ],
   "source": [
    "# check for variable content\n",
    "response.content"
   ]
  },
  {
   "cell_type": "code",
   "execution_count": 20,
   "id": "26b64a20-5f97-4c74-910b-a996376d10a0",
   "metadata": {},
   "outputs": [],
   "source": [
    "# deserialize (json to dictionary conversion)\n",
    "nba_json = response.json()"
   ]
  },
  {
   "cell_type": "code",
   "execution_count": 21,
   "id": "d5f89051-28dc-4219-94b3-26135654bd7b",
   "metadata": {},
   "outputs": [
    {
     "data": {
      "text/plain": [
       "dict"
      ]
     },
     "execution_count": 21,
     "metadata": {},
     "output_type": "execute_result"
    }
   ],
   "source": [
    "# check type\n",
    "type(nba_json)"
   ]
  },
  {
   "cell_type": "code",
   "execution_count": 22,
   "id": "089de0da-11bb-4bff-97a3-de2d664da4b0",
   "metadata": {},
   "outputs": [
    {
     "data": {
      "text/plain": [
       "{'_internal': {'pubDateTime': '2022-10-12 16:41:46.979 EDT',\n",
       "  'igorPath': 'domUpdater,1665607306006,1665607306822|feedProducer,1665607306886,1665607306991',\n",
       "  'routeName': 'schedule_sync',\n",
       "  'routeValue': '2022_0022200056_20221026_schedule_sync',\n",
       "  'xslt': 'NBA/xsl/game/boxscore/marty_boxscore.xsl',\n",
       "  'xsltForceRecompile': 'true',\n",
       "  'xsltInCache': 'false',\n",
       "  'xsltCompileTimeMillis': '79',\n",
       "  'xsltTransformTimeMillis': '12',\n",
       "  'consolidatedDomKey': 'prod__transform__marty_boxscore__1662527206251',\n",
       "  'endToEndTimeMillis': '985'},\n",
       " 'basicGameData': {'seasonStageId': 2,\n",
       "  'seasonYear': '2022',\n",
       "  'leagueName': 'standard',\n",
       "  'gameId': '0022200056',\n",
       "  'arena': {'name': 'Rocket Mortgage FieldHouse',\n",
       "   'isDomestic': True,\n",
       "   'city': 'Cleveland',\n",
       "   'stateAbbr': 'OH',\n",
       "   'country': 'USA'},\n",
       "  'isGameActivated': False,\n",
       "  'statusNum': 1,\n",
       "  'extendedStatusNum': 0,\n",
       "  'startTimeEastern': '7:00 PM ET',\n",
       "  'startTimeUTC': '2022-10-26T23:00:00.000Z',\n",
       "  'startDateEastern': '20221026',\n",
       "  'homeStartDate': '20221026',\n",
       "  'homeStartTime': '1900',\n",
       "  'visitorStartDate': '20221026',\n",
       "  'visitorStartTime': '1900',\n",
       "  'gameUrlCode': '20221026/ORLCLE',\n",
       "  'clock': '',\n",
       "  'isBuzzerBeater': False,\n",
       "  'isPreviewArticleAvail': False,\n",
       "  'isRecapArticleAvail': False,\n",
       "  'nugget': {'text': ''},\n",
       "  'attendance': '',\n",
       "  'tickets': {'mobileApp': 'https://a.data.nba.com/tickets/single/2022/0022200056/APP_TIX',\n",
       "   'desktopWeb': 'https://a.data.nba.com/tickets/single/2022/0022200056/TEAM_SCH',\n",
       "   'mobileWeb': 'https://a.data.nba.com/tickets/single/2022/0022200056/WEB_MWEB',\n",
       "   'leagGameInfo': 'https://a.data.nba.com/tickets/single/2022/0022200056/LEAG_GAMEINFO',\n",
       "   'leagTix': 'https://a.data.nba.com/tickets/single/2022/0022200056/LEAG_TIX'},\n",
       "  'hasGameBookPdf': False,\n",
       "  'isStartTimeTBD': False,\n",
       "  'isNeutralVenue': False,\n",
       "  'gameDuration': {'hours': '', 'minutes': ''},\n",
       "  'period': {'current': 0,\n",
       "   'type': 0,\n",
       "   'maxRegular': 4,\n",
       "   'isHalftime': False,\n",
       "   'isEndOfPeriod': False},\n",
       "  'vTeam': {'teamId': '1610612753',\n",
       "   'triCode': 'ORL',\n",
       "   'win': '0',\n",
       "   'loss': '0',\n",
       "   'seriesWin': '',\n",
       "   'seriesLoss': '',\n",
       "   'score': '',\n",
       "   'linescore': []},\n",
       "  'hTeam': {'teamId': '1610612739',\n",
       "   'triCode': 'CLE',\n",
       "   'win': '0',\n",
       "   'loss': '0',\n",
       "   'seriesWin': '',\n",
       "   'seriesLoss': '',\n",
       "   'score': '',\n",
       "   'linescore': []},\n",
       "  'watch': {'broadcast': {'broadcasters': {'national': [],\n",
       "     'canadian': [],\n",
       "     'vTeam': [{'shortName': 'BSFL', 'longName': 'Bally Sports Florida'}],\n",
       "     'hTeam': [{'shortName': 'BSOH', 'longName': 'Bally Sports Ohio'}],\n",
       "     'spanish_hTeam': [],\n",
       "     'spanish_vTeam': [],\n",
       "     'spanish_national': []},\n",
       "    'video': {'regionalBlackoutCodes': 'cler_miar',\n",
       "     'canPurchase': False,\n",
       "     'isLeaguePass': True,\n",
       "     'isNationalBlackout': False,\n",
       "     'isTNTOT': False,\n",
       "     'isVR': False,\n",
       "     'tntotIsOnAir': False,\n",
       "     'isNextVR': False,\n",
       "     'isNBAOnTNTVR': False,\n",
       "     'isMagicLeap': False,\n",
       "     'isOculusVenues': False,\n",
       "     'streams': [{'streamType': 'vTeam',\n",
       "       'isOnAir': False,\n",
       "       'doesArchiveExist': False,\n",
       "       'isArchiveAvailToWatch': False,\n",
       "       'streamId': '',\n",
       "       'duration': 0},\n",
       "      {'streamType': 'hTeam',\n",
       "       'isOnAir': False,\n",
       "       'doesArchiveExist': False,\n",
       "       'isArchiveAvailToWatch': False,\n",
       "       'streamId': '',\n",
       "       'duration': 0},\n",
       "      {'streamType': 'espanol_vTeam',\n",
       "       'isOnAir': False,\n",
       "       'doesArchiveExist': False,\n",
       "       'isArchiveAvailToWatch': False,\n",
       "       'streamId': '',\n",
       "       'duration': 0},\n",
       "      {'streamType': 'espanol_hTeam',\n",
       "       'isOnAir': False,\n",
       "       'doesArchiveExist': False,\n",
       "       'isArchiveAvailToWatch': False,\n",
       "       'streamId': '',\n",
       "       'duration': 0},\n",
       "      {'streamType': 'espanol_natl',\n",
       "       'isOnAir': False,\n",
       "       'doesArchiveExist': False,\n",
       "       'isArchiveAvailToWatch': False,\n",
       "       'streamId': '',\n",
       "       'duration': 0},\n",
       "      {'streamType': 'mobile',\n",
       "       'isOnAir': False,\n",
       "       'doesArchiveExist': False,\n",
       "       'isArchiveAvailToWatch': False,\n",
       "       'streamId': '',\n",
       "       'duration': 0},\n",
       "      {'streamType': 'condensed',\n",
       "       'isOnAir': False,\n",
       "       'doesArchiveExist': False,\n",
       "       'isArchiveAvailToWatch': False,\n",
       "       'streamId': '',\n",
       "       'duration': 0},\n",
       "      {'streamType': 'alt',\n",
       "       'isOnAir': False,\n",
       "       'doesArchiveExist': False,\n",
       "       'isArchiveAvailToWatch': False,\n",
       "       'streamId': '',\n",
       "       'duration': 0}],\n",
       "     'deepLink': []},\n",
       "    'audio': {'national': {'streams': [{'language': 'English',\n",
       "        'isOnAir': False,\n",
       "        'streamId': ''},\n",
       "       {'language': 'Spanish', 'isOnAir': False, 'streamId': ''}],\n",
       "      'broadcasters': []},\n",
       "     'vTeam': {'streams': [{'language': 'English',\n",
       "        'isOnAir': False,\n",
       "        'streamId': ''},\n",
       "       {'language': 'Spanish', 'isOnAir': False, 'streamId': ''}],\n",
       "      'broadcasters': [{'shortName': 'WYGM 96.9FM / 740AM',\n",
       "        'longName': 'WYGM 96.9FM / 740AM'}]},\n",
       "     'hTeam': {'streams': [{'language': 'English',\n",
       "        'isOnAir': False,\n",
       "        'streamId': ''},\n",
       "       {'language': 'Spanish', 'isOnAir': False, 'streamId': ''}],\n",
       "      'broadcasters': [{'shortName': 'WTAM/WMMS/WNZN',\n",
       "        'longName': 'WTAM/WMMS/WNZN'}]}}}},\n",
       "  'officials': {'formatted': []}},\n",
       " 'previousMatchup': {'gameId': '0022101179', 'gameDate': '20220405'}}"
      ]
     },
     "execution_count": 22,
     "metadata": {},
     "output_type": "execute_result"
    }
   ],
   "source": [
    "nba_json"
   ]
  },
  {
   "cell_type": "markdown",
   "id": "7d922d82-64cd-46d1-8668-e188c6d058a1",
   "metadata": {},
   "source": [
    "## 6. Explore deserialized JSON strings (= dictionaries)"
   ]
  },
  {
   "cell_type": "code",
   "execution_count": 23,
   "id": "af3914b8-16a0-4216-a9c7-b53f59565a54",
   "metadata": {},
   "outputs": [],
   "source": [
    "# get request and deserialize all at once\n",
    "nba_json = requests.get(url).json()"
   ]
  },
  {
   "cell_type": "code",
   "execution_count": 24,
   "id": "17c059ac-9d26-4d32-ba6d-fcbbd87f5abe",
   "metadata": {},
   "outputs": [
    {
     "data": {
      "text/plain": [
       "dict_items([('_internal', {'pubDateTime': '2022-10-12 16:41:46.979 EDT', 'igorPath': 'domUpdater,1665607306006,1665607306822|feedProducer,1665607306886,1665607306991', 'routeName': 'schedule_sync', 'routeValue': '2022_0022200056_20221026_schedule_sync', 'xslt': 'NBA/xsl/game/boxscore/marty_boxscore.xsl', 'xsltForceRecompile': 'true', 'xsltInCache': 'false', 'xsltCompileTimeMillis': '79', 'xsltTransformTimeMillis': '12', 'consolidatedDomKey': 'prod__transform__marty_boxscore__1662527206251', 'endToEndTimeMillis': '985'}), ('basicGameData', {'seasonStageId': 2, 'seasonYear': '2022', 'leagueName': 'standard', 'gameId': '0022200056', 'arena': {'name': 'Rocket Mortgage FieldHouse', 'isDomestic': True, 'city': 'Cleveland', 'stateAbbr': 'OH', 'country': 'USA'}, 'isGameActivated': False, 'statusNum': 1, 'extendedStatusNum': 0, 'startTimeEastern': '7:00 PM ET', 'startTimeUTC': '2022-10-26T23:00:00.000Z', 'startDateEastern': '20221026', 'homeStartDate': '20221026', 'homeStartTime': '1900', 'visitorStartDate': '20221026', 'visitorStartTime': '1900', 'gameUrlCode': '20221026/ORLCLE', 'clock': '', 'isBuzzerBeater': False, 'isPreviewArticleAvail': False, 'isRecapArticleAvail': False, 'nugget': {'text': ''}, 'attendance': '', 'tickets': {'mobileApp': 'https://a.data.nba.com/tickets/single/2022/0022200056/APP_TIX', 'desktopWeb': 'https://a.data.nba.com/tickets/single/2022/0022200056/TEAM_SCH', 'mobileWeb': 'https://a.data.nba.com/tickets/single/2022/0022200056/WEB_MWEB', 'leagGameInfo': 'https://a.data.nba.com/tickets/single/2022/0022200056/LEAG_GAMEINFO', 'leagTix': 'https://a.data.nba.com/tickets/single/2022/0022200056/LEAG_TIX'}, 'hasGameBookPdf': False, 'isStartTimeTBD': False, 'isNeutralVenue': False, 'gameDuration': {'hours': '', 'minutes': ''}, 'period': {'current': 0, 'type': 0, 'maxRegular': 4, 'isHalftime': False, 'isEndOfPeriod': False}, 'vTeam': {'teamId': '1610612753', 'triCode': 'ORL', 'win': '0', 'loss': '0', 'seriesWin': '', 'seriesLoss': '', 'score': '', 'linescore': []}, 'hTeam': {'teamId': '1610612739', 'triCode': 'CLE', 'win': '0', 'loss': '0', 'seriesWin': '', 'seriesLoss': '', 'score': '', 'linescore': []}, 'watch': {'broadcast': {'broadcasters': {'national': [], 'canadian': [], 'vTeam': [{'shortName': 'BSFL', 'longName': 'Bally Sports Florida'}], 'hTeam': [{'shortName': 'BSOH', 'longName': 'Bally Sports Ohio'}], 'spanish_hTeam': [], 'spanish_vTeam': [], 'spanish_national': []}, 'video': {'regionalBlackoutCodes': 'cler_miar', 'canPurchase': False, 'isLeaguePass': True, 'isNationalBlackout': False, 'isTNTOT': False, 'isVR': False, 'tntotIsOnAir': False, 'isNextVR': False, 'isNBAOnTNTVR': False, 'isMagicLeap': False, 'isOculusVenues': False, 'streams': [{'streamType': 'vTeam', 'isOnAir': False, 'doesArchiveExist': False, 'isArchiveAvailToWatch': False, 'streamId': '', 'duration': 0}, {'streamType': 'hTeam', 'isOnAir': False, 'doesArchiveExist': False, 'isArchiveAvailToWatch': False, 'streamId': '', 'duration': 0}, {'streamType': 'espanol_vTeam', 'isOnAir': False, 'doesArchiveExist': False, 'isArchiveAvailToWatch': False, 'streamId': '', 'duration': 0}, {'streamType': 'espanol_hTeam', 'isOnAir': False, 'doesArchiveExist': False, 'isArchiveAvailToWatch': False, 'streamId': '', 'duration': 0}, {'streamType': 'espanol_natl', 'isOnAir': False, 'doesArchiveExist': False, 'isArchiveAvailToWatch': False, 'streamId': '', 'duration': 0}, {'streamType': 'mobile', 'isOnAir': False, 'doesArchiveExist': False, 'isArchiveAvailToWatch': False, 'streamId': '', 'duration': 0}, {'streamType': 'condensed', 'isOnAir': False, 'doesArchiveExist': False, 'isArchiveAvailToWatch': False, 'streamId': '', 'duration': 0}, {'streamType': 'alt', 'isOnAir': False, 'doesArchiveExist': False, 'isArchiveAvailToWatch': False, 'streamId': '', 'duration': 0}], 'deepLink': []}, 'audio': {'national': {'streams': [{'language': 'English', 'isOnAir': False, 'streamId': ''}, {'language': 'Spanish', 'isOnAir': False, 'streamId': ''}], 'broadcasters': []}, 'vTeam': {'streams': [{'language': 'English', 'isOnAir': False, 'streamId': ''}, {'language': 'Spanish', 'isOnAir': False, 'streamId': ''}], 'broadcasters': [{'shortName': 'WYGM 96.9FM / 740AM', 'longName': 'WYGM 96.9FM / 740AM'}]}, 'hTeam': {'streams': [{'language': 'English', 'isOnAir': False, 'streamId': ''}, {'language': 'Spanish', 'isOnAir': False, 'streamId': ''}], 'broadcasters': [{'shortName': 'WTAM/WMMS/WNZN', 'longName': 'WTAM/WMMS/WNZN'}]}}}}, 'officials': {'formatted': []}}), ('previousMatchup', {'gameId': '0022101179', 'gameDate': '20220405'})])"
      ]
     },
     "execution_count": 24,
     "metadata": {},
     "output_type": "execute_result"
    }
   ],
   "source": [
    "# tuple with key values\n",
    "nba_json.items()"
   ]
  },
  {
   "cell_type": "code",
   "execution_count": 25,
   "id": "63be35d8-585f-49eb-b7ea-d1f858cfd68e",
   "metadata": {},
   "outputs": [
    {
     "data": {
      "text/plain": [
       "dict_keys(['_internal', 'basicGameData', 'previousMatchup'])"
      ]
     },
     "execution_count": 25,
     "metadata": {},
     "output_type": "execute_result"
    }
   ],
   "source": [
    "# get keys only\n",
    "nba_json.keys()"
   ]
  },
  {
   "cell_type": "code",
   "execution_count": 26,
   "id": "74269a4e-70ec-4299-a538-b25a89a6498e",
   "metadata": {},
   "outputs": [
    {
     "data": {
      "text/plain": [
       "dict_values([{'pubDateTime': '2022-10-12 16:41:46.979 EDT', 'igorPath': 'domUpdater,1665607306006,1665607306822|feedProducer,1665607306886,1665607306991', 'routeName': 'schedule_sync', 'routeValue': '2022_0022200056_20221026_schedule_sync', 'xslt': 'NBA/xsl/game/boxscore/marty_boxscore.xsl', 'xsltForceRecompile': 'true', 'xsltInCache': 'false', 'xsltCompileTimeMillis': '79', 'xsltTransformTimeMillis': '12', 'consolidatedDomKey': 'prod__transform__marty_boxscore__1662527206251', 'endToEndTimeMillis': '985'}, {'seasonStageId': 2, 'seasonYear': '2022', 'leagueName': 'standard', 'gameId': '0022200056', 'arena': {'name': 'Rocket Mortgage FieldHouse', 'isDomestic': True, 'city': 'Cleveland', 'stateAbbr': 'OH', 'country': 'USA'}, 'isGameActivated': False, 'statusNum': 1, 'extendedStatusNum': 0, 'startTimeEastern': '7:00 PM ET', 'startTimeUTC': '2022-10-26T23:00:00.000Z', 'startDateEastern': '20221026', 'homeStartDate': '20221026', 'homeStartTime': '1900', 'visitorStartDate': '20221026', 'visitorStartTime': '1900', 'gameUrlCode': '20221026/ORLCLE', 'clock': '', 'isBuzzerBeater': False, 'isPreviewArticleAvail': False, 'isRecapArticleAvail': False, 'nugget': {'text': ''}, 'attendance': '', 'tickets': {'mobileApp': 'https://a.data.nba.com/tickets/single/2022/0022200056/APP_TIX', 'desktopWeb': 'https://a.data.nba.com/tickets/single/2022/0022200056/TEAM_SCH', 'mobileWeb': 'https://a.data.nba.com/tickets/single/2022/0022200056/WEB_MWEB', 'leagGameInfo': 'https://a.data.nba.com/tickets/single/2022/0022200056/LEAG_GAMEINFO', 'leagTix': 'https://a.data.nba.com/tickets/single/2022/0022200056/LEAG_TIX'}, 'hasGameBookPdf': False, 'isStartTimeTBD': False, 'isNeutralVenue': False, 'gameDuration': {'hours': '', 'minutes': ''}, 'period': {'current': 0, 'type': 0, 'maxRegular': 4, 'isHalftime': False, 'isEndOfPeriod': False}, 'vTeam': {'teamId': '1610612753', 'triCode': 'ORL', 'win': '0', 'loss': '0', 'seriesWin': '', 'seriesLoss': '', 'score': '', 'linescore': []}, 'hTeam': {'teamId': '1610612739', 'triCode': 'CLE', 'win': '0', 'loss': '0', 'seriesWin': '', 'seriesLoss': '', 'score': '', 'linescore': []}, 'watch': {'broadcast': {'broadcasters': {'national': [], 'canadian': [], 'vTeam': [{'shortName': 'BSFL', 'longName': 'Bally Sports Florida'}], 'hTeam': [{'shortName': 'BSOH', 'longName': 'Bally Sports Ohio'}], 'spanish_hTeam': [], 'spanish_vTeam': [], 'spanish_national': []}, 'video': {'regionalBlackoutCodes': 'cler_miar', 'canPurchase': False, 'isLeaguePass': True, 'isNationalBlackout': False, 'isTNTOT': False, 'isVR': False, 'tntotIsOnAir': False, 'isNextVR': False, 'isNBAOnTNTVR': False, 'isMagicLeap': False, 'isOculusVenues': False, 'streams': [{'streamType': 'vTeam', 'isOnAir': False, 'doesArchiveExist': False, 'isArchiveAvailToWatch': False, 'streamId': '', 'duration': 0}, {'streamType': 'hTeam', 'isOnAir': False, 'doesArchiveExist': False, 'isArchiveAvailToWatch': False, 'streamId': '', 'duration': 0}, {'streamType': 'espanol_vTeam', 'isOnAir': False, 'doesArchiveExist': False, 'isArchiveAvailToWatch': False, 'streamId': '', 'duration': 0}, {'streamType': 'espanol_hTeam', 'isOnAir': False, 'doesArchiveExist': False, 'isArchiveAvailToWatch': False, 'streamId': '', 'duration': 0}, {'streamType': 'espanol_natl', 'isOnAir': False, 'doesArchiveExist': False, 'isArchiveAvailToWatch': False, 'streamId': '', 'duration': 0}, {'streamType': 'mobile', 'isOnAir': False, 'doesArchiveExist': False, 'isArchiveAvailToWatch': False, 'streamId': '', 'duration': 0}, {'streamType': 'condensed', 'isOnAir': False, 'doesArchiveExist': False, 'isArchiveAvailToWatch': False, 'streamId': '', 'duration': 0}, {'streamType': 'alt', 'isOnAir': False, 'doesArchiveExist': False, 'isArchiveAvailToWatch': False, 'streamId': '', 'duration': 0}], 'deepLink': []}, 'audio': {'national': {'streams': [{'language': 'English', 'isOnAir': False, 'streamId': ''}, {'language': 'Spanish', 'isOnAir': False, 'streamId': ''}], 'broadcasters': []}, 'vTeam': {'streams': [{'language': 'English', 'isOnAir': False, 'streamId': ''}, {'language': 'Spanish', 'isOnAir': False, 'streamId': ''}], 'broadcasters': [{'shortName': 'WYGM 96.9FM / 740AM', 'longName': 'WYGM 96.9FM / 740AM'}]}, 'hTeam': {'streams': [{'language': 'English', 'isOnAir': False, 'streamId': ''}, {'language': 'Spanish', 'isOnAir': False, 'streamId': ''}], 'broadcasters': [{'shortName': 'WTAM/WMMS/WNZN', 'longName': 'WTAM/WMMS/WNZN'}]}}}}, 'officials': {'formatted': []}}, {'gameId': '0022101179', 'gameDate': '20220405'}])"
      ]
     },
     "execution_count": 26,
     "metadata": {},
     "output_type": "execute_result"
    }
   ],
   "source": [
    "# get values only\n",
    "nba_json.values()"
   ]
  },
  {
   "cell_type": "code",
   "execution_count": 27,
   "id": "4b78f79e-23bf-4944-81a5-5ce2a2864137",
   "metadata": {},
   "outputs": [
    {
     "data": {
      "text/plain": [
       "{'pubDateTime': '2022-10-12 16:41:46.979 EDT',\n",
       " 'igorPath': 'domUpdater,1665607306006,1665607306822|feedProducer,1665607306886,1665607306991',\n",
       " 'routeName': 'schedule_sync',\n",
       " 'routeValue': '2022_0022200056_20221026_schedule_sync',\n",
       " 'xslt': 'NBA/xsl/game/boxscore/marty_boxscore.xsl',\n",
       " 'xsltForceRecompile': 'true',\n",
       " 'xsltInCache': 'false',\n",
       " 'xsltCompileTimeMillis': '79',\n",
       " 'xsltTransformTimeMillis': '12',\n",
       " 'consolidatedDomKey': 'prod__transform__marty_boxscore__1662527206251',\n",
       " 'endToEndTimeMillis': '985'}"
      ]
     },
     "execution_count": 27,
     "metadata": {},
     "output_type": "execute_result"
    }
   ],
   "source": [
    "# check first key content\n",
    "nba_json[\"_internal\"]"
   ]
  },
  {
   "cell_type": "code",
   "execution_count": 28,
   "id": "b62521fe-0b83-4d1a-a75b-2cc5fd646101",
   "metadata": {},
   "outputs": [
    {
     "data": {
      "text/plain": [
       "{'seasonStageId': 2,\n",
       " 'seasonYear': '2022',\n",
       " 'leagueName': 'standard',\n",
       " 'gameId': '0022200056',\n",
       " 'arena': {'name': 'Rocket Mortgage FieldHouse',\n",
       "  'isDomestic': True,\n",
       "  'city': 'Cleveland',\n",
       "  'stateAbbr': 'OH',\n",
       "  'country': 'USA'},\n",
       " 'isGameActivated': False,\n",
       " 'statusNum': 1,\n",
       " 'extendedStatusNum': 0,\n",
       " 'startTimeEastern': '7:00 PM ET',\n",
       " 'startTimeUTC': '2022-10-26T23:00:00.000Z',\n",
       " 'startDateEastern': '20221026',\n",
       " 'homeStartDate': '20221026',\n",
       " 'homeStartTime': '1900',\n",
       " 'visitorStartDate': '20221026',\n",
       " 'visitorStartTime': '1900',\n",
       " 'gameUrlCode': '20221026/ORLCLE',\n",
       " 'clock': '',\n",
       " 'isBuzzerBeater': False,\n",
       " 'isPreviewArticleAvail': False,\n",
       " 'isRecapArticleAvail': False,\n",
       " 'nugget': {'text': ''},\n",
       " 'attendance': '',\n",
       " 'tickets': {'mobileApp': 'https://a.data.nba.com/tickets/single/2022/0022200056/APP_TIX',\n",
       "  'desktopWeb': 'https://a.data.nba.com/tickets/single/2022/0022200056/TEAM_SCH',\n",
       "  'mobileWeb': 'https://a.data.nba.com/tickets/single/2022/0022200056/WEB_MWEB',\n",
       "  'leagGameInfo': 'https://a.data.nba.com/tickets/single/2022/0022200056/LEAG_GAMEINFO',\n",
       "  'leagTix': 'https://a.data.nba.com/tickets/single/2022/0022200056/LEAG_TIX'},\n",
       " 'hasGameBookPdf': False,\n",
       " 'isStartTimeTBD': False,\n",
       " 'isNeutralVenue': False,\n",
       " 'gameDuration': {'hours': '', 'minutes': ''},\n",
       " 'period': {'current': 0,\n",
       "  'type': 0,\n",
       "  'maxRegular': 4,\n",
       "  'isHalftime': False,\n",
       "  'isEndOfPeriod': False},\n",
       " 'vTeam': {'teamId': '1610612753',\n",
       "  'triCode': 'ORL',\n",
       "  'win': '0',\n",
       "  'loss': '0',\n",
       "  'seriesWin': '',\n",
       "  'seriesLoss': '',\n",
       "  'score': '',\n",
       "  'linescore': []},\n",
       " 'hTeam': {'teamId': '1610612739',\n",
       "  'triCode': 'CLE',\n",
       "  'win': '0',\n",
       "  'loss': '0',\n",
       "  'seriesWin': '',\n",
       "  'seriesLoss': '',\n",
       "  'score': '',\n",
       "  'linescore': []},\n",
       " 'watch': {'broadcast': {'broadcasters': {'national': [],\n",
       "    'canadian': [],\n",
       "    'vTeam': [{'shortName': 'BSFL', 'longName': 'Bally Sports Florida'}],\n",
       "    'hTeam': [{'shortName': 'BSOH', 'longName': 'Bally Sports Ohio'}],\n",
       "    'spanish_hTeam': [],\n",
       "    'spanish_vTeam': [],\n",
       "    'spanish_national': []},\n",
       "   'video': {'regionalBlackoutCodes': 'cler_miar',\n",
       "    'canPurchase': False,\n",
       "    'isLeaguePass': True,\n",
       "    'isNationalBlackout': False,\n",
       "    'isTNTOT': False,\n",
       "    'isVR': False,\n",
       "    'tntotIsOnAir': False,\n",
       "    'isNextVR': False,\n",
       "    'isNBAOnTNTVR': False,\n",
       "    'isMagicLeap': False,\n",
       "    'isOculusVenues': False,\n",
       "    'streams': [{'streamType': 'vTeam',\n",
       "      'isOnAir': False,\n",
       "      'doesArchiveExist': False,\n",
       "      'isArchiveAvailToWatch': False,\n",
       "      'streamId': '',\n",
       "      'duration': 0},\n",
       "     {'streamType': 'hTeam',\n",
       "      'isOnAir': False,\n",
       "      'doesArchiveExist': False,\n",
       "      'isArchiveAvailToWatch': False,\n",
       "      'streamId': '',\n",
       "      'duration': 0},\n",
       "     {'streamType': 'espanol_vTeam',\n",
       "      'isOnAir': False,\n",
       "      'doesArchiveExist': False,\n",
       "      'isArchiveAvailToWatch': False,\n",
       "      'streamId': '',\n",
       "      'duration': 0},\n",
       "     {'streamType': 'espanol_hTeam',\n",
       "      'isOnAir': False,\n",
       "      'doesArchiveExist': False,\n",
       "      'isArchiveAvailToWatch': False,\n",
       "      'streamId': '',\n",
       "      'duration': 0},\n",
       "     {'streamType': 'espanol_natl',\n",
       "      'isOnAir': False,\n",
       "      'doesArchiveExist': False,\n",
       "      'isArchiveAvailToWatch': False,\n",
       "      'streamId': '',\n",
       "      'duration': 0},\n",
       "     {'streamType': 'mobile',\n",
       "      'isOnAir': False,\n",
       "      'doesArchiveExist': False,\n",
       "      'isArchiveAvailToWatch': False,\n",
       "      'streamId': '',\n",
       "      'duration': 0},\n",
       "     {'streamType': 'condensed',\n",
       "      'isOnAir': False,\n",
       "      'doesArchiveExist': False,\n",
       "      'isArchiveAvailToWatch': False,\n",
       "      'streamId': '',\n",
       "      'duration': 0},\n",
       "     {'streamType': 'alt',\n",
       "      'isOnAir': False,\n",
       "      'doesArchiveExist': False,\n",
       "      'isArchiveAvailToWatch': False,\n",
       "      'streamId': '',\n",
       "      'duration': 0}],\n",
       "    'deepLink': []},\n",
       "   'audio': {'national': {'streams': [{'language': 'English',\n",
       "       'isOnAir': False,\n",
       "       'streamId': ''},\n",
       "      {'language': 'Spanish', 'isOnAir': False, 'streamId': ''}],\n",
       "     'broadcasters': []},\n",
       "    'vTeam': {'streams': [{'language': 'English',\n",
       "       'isOnAir': False,\n",
       "       'streamId': ''},\n",
       "      {'language': 'Spanish', 'isOnAir': False, 'streamId': ''}],\n",
       "     'broadcasters': [{'shortName': 'WYGM 96.9FM / 740AM',\n",
       "       'longName': 'WYGM 96.9FM / 740AM'}]},\n",
       "    'hTeam': {'streams': [{'language': 'English',\n",
       "       'isOnAir': False,\n",
       "       'streamId': ''},\n",
       "      {'language': 'Spanish', 'isOnAir': False, 'streamId': ''}],\n",
       "     'broadcasters': [{'shortName': 'WTAM/WMMS/WNZN',\n",
       "       'longName': 'WTAM/WMMS/WNZN'}]}}}},\n",
       " 'officials': {'formatted': []}}"
      ]
     },
     "execution_count": 28,
     "metadata": {},
     "output_type": "execute_result"
    }
   ],
   "source": [
    "# check second key content\n",
    "nba_json[\"basicGameData\"]"
   ]
  },
  {
   "cell_type": "code",
   "execution_count": 29,
   "id": "a3ac2db1-de45-4d72-9f41-e94d18e8ff2c",
   "metadata": {},
   "outputs": [
    {
     "data": {
      "text/plain": [
       "{'gameId': '0022101179', 'gameDate': '20220405'}"
      ]
     },
     "execution_count": 29,
     "metadata": {},
     "output_type": "execute_result"
    }
   ],
   "source": [
    "# check third key content\n",
    "nba_json[\"previousMatchup\"]"
   ]
  },
  {
   "cell_type": "code",
   "execution_count": 30,
   "id": "923d10a9-f0a6-4a3e-93b6-e25fe6655ea9",
   "metadata": {},
   "outputs": [
    {
     "data": {
      "text/plain": [
       "dict_keys(['seasonStageId', 'seasonYear', 'leagueName', 'gameId', 'arena', 'isGameActivated', 'statusNum', 'extendedStatusNum', 'startTimeEastern', 'startTimeUTC', 'startDateEastern', 'homeStartDate', 'homeStartTime', 'visitorStartDate', 'visitorStartTime', 'gameUrlCode', 'clock', 'isBuzzerBeater', 'isPreviewArticleAvail', 'isRecapArticleAvail', 'nugget', 'attendance', 'tickets', 'hasGameBookPdf', 'isStartTimeTBD', 'isNeutralVenue', 'gameDuration', 'period', 'vTeam', 'hTeam', 'watch', 'officials'])"
      ]
     },
     "execution_count": 30,
     "metadata": {},
     "output_type": "execute_result"
    }
   ],
   "source": [
    "# further exploration of 'basicGameData' key\n",
    "nba_json[\"basicGameData\"].keys()"
   ]
  },
  {
   "cell_type": "code",
   "execution_count": 31,
   "id": "0c05f962-50fb-4bf5-8047-19da14a7b508",
   "metadata": {},
   "outputs": [
    {
     "data": {
      "text/plain": [
       "'0022200056'"
      ]
     },
     "execution_count": 31,
     "metadata": {},
     "output_type": "execute_result"
    }
   ],
   "source": [
    "# access 'gameId' from 'basicGameData'\n",
    "nba_json[\"basicGameData\"][\"gameId\"]"
   ]
  },
  {
   "cell_type": "code",
   "execution_count": 32,
   "id": "a5af8089-0368-4579-9a67-f2f8d7faee35",
   "metadata": {},
   "outputs": [
    {
     "data": {
      "text/plain": [
       "dict_keys(['gameId', 'gameDate'])"
      ]
     },
     "execution_count": 32,
     "metadata": {},
     "output_type": "execute_result"
    }
   ],
   "source": [
    "# further exploration of 'previousMatchup' key\n",
    "nba_json[\"previousMatchup\"].keys()"
   ]
  },
  {
   "cell_type": "code",
   "execution_count": 33,
   "id": "0bb6e994-5400-422d-a0d4-42db92be91a2",
   "metadata": {},
   "outputs": [
    {
     "data": {
      "text/plain": [
       "'20220405'"
      ]
     },
     "execution_count": 33,
     "metadata": {},
     "output_type": "execute_result"
    }
   ],
   "source": [
    "# access 'gameDate' from 'previousMatchup'\n",
    "nba_json[\"previousMatchup\"][\"gameDate\"]"
   ]
  },
  {
   "cell_type": "code",
   "execution_count": 34,
   "id": "9a69da7a-8c51-461c-bfc6-ce1d746ba16a",
   "metadata": {},
   "outputs": [
    {
     "name": "stdout",
     "output_type": "stream",
     "text": [
      "gameId\n",
      "gameDate\n"
     ]
    }
   ],
   "source": [
    "# loop through items without indexing\n",
    "for key, value in nba_json[\"previousMatchup\"].items():\n",
    "    print(f\"{key}\")"
   ]
  },
  {
   "cell_type": "code",
   "execution_count": 35,
   "id": "be66efbd-84e7-4b6b-b7d1-8493bc413d11",
   "metadata": {},
   "outputs": [
    {
     "name": "stdout",
     "output_type": "stream",
     "text": [
      "0 - gameId\n",
      "1 - gameDate\n"
     ]
    }
   ],
   "source": [
    "# look through items with indexing -> use enumerate\n",
    "for ind, (key, value) in enumerate(nba_json[\"previousMatchup\"].items()):\n",
    "    print(\"%s - %s\" % (ind, key))"
   ]
  },
  {
   "cell_type": "markdown",
   "id": "8a8c0a4d-26f9-4a73-9b69-bd603b9c2fa4",
   "metadata": {},
   "source": [
    "## 7. Normalize JSON data into a flat table"
   ]
  },
  {
   "cell_type": "markdown",
   "id": "a5e264d9-571c-488a-95d8-e70947e7a6eb",
   "metadata": {},
   "source": [
    "Once the relevant data has been found, normalize data via json_normalize into a flat table."
   ]
  },
  {
   "cell_type": "code",
   "execution_count": 36,
   "id": "c92500bd-6f07-48c9-98ec-8e7ac6c388d7",
   "metadata": {},
   "outputs": [
    {
     "data": {
      "text/html": [
       "<div>\n",
       "<style scoped>\n",
       "    .dataframe tbody tr th:only-of-type {\n",
       "        vertical-align: middle;\n",
       "    }\n",
       "\n",
       "    .dataframe tbody tr th {\n",
       "        vertical-align: top;\n",
       "    }\n",
       "\n",
       "    .dataframe thead th {\n",
       "        text-align: right;\n",
       "    }\n",
       "</style>\n",
       "<table border=\"1\" class=\"dataframe\">\n",
       "  <thead>\n",
       "    <tr style=\"text-align: right;\">\n",
       "      <th></th>\n",
       "      <th>gameId</th>\n",
       "      <th>gameDate</th>\n",
       "    </tr>\n",
       "  </thead>\n",
       "  <tbody>\n",
       "    <tr>\n",
       "      <th>0</th>\n",
       "      <td>0022101179</td>\n",
       "      <td>20220405</td>\n",
       "    </tr>\n",
       "  </tbody>\n",
       "</table>\n",
       "</div>"
      ],
      "text/plain": [
       "       gameId  gameDate\n",
       "0  0022101179  20220405"
      ]
     },
     "execution_count": 36,
     "metadata": {},
     "output_type": "execute_result"
    }
   ],
   "source": [
    "# from 'previousMatchup' from nba_json\n",
    "# each key represents a column (one column for gameId and one for gameDate)\n",
    "df = json_normalize(nba_json[\"previousMatchup\"]).head()\n",
    "\n",
    "df"
   ]
  }
 ],
 "metadata": {
  "kernelspec": {
   "display_name": "projects",
   "language": "python",
   "name": "projects"
  },
  "language_info": {
   "codemirror_mode": {
    "name": "ipython",
    "version": 3
   },
   "file_extension": ".py",
   "mimetype": "text/x-python",
   "name": "python",
   "nbconvert_exporter": "python",
   "pygments_lexer": "ipython3",
   "version": "3.10.9"
  }
 },
 "nbformat": 4,
 "nbformat_minor": 5
}
