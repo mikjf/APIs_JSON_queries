{
 "cells": [
  {
   "cell_type": "markdown",
   "id": "9ef23d85-2b61-465c-b8f4-367f93ad1e8d",
   "metadata": {},
   "source": [
    "# Roadtrip itinerary via Google APIs"
   ]
  },
  {
   "cell_type": "markdown",
   "id": "235461c2-acc3-4f87-9a25-3ede3a34b22d",
   "metadata": {},
   "source": [
    "Once the starting point and ending destination has been set, find out which streets and the total number of different streets are present in the roadtrip."
   ]
  },
  {
   "cell_type": "code",
   "execution_count": 1,
   "id": "10c901c6-2876-4ca7-8943-484e1131175a",
   "metadata": {},
   "outputs": [],
   "source": [
    "# extension to help clean python code\n",
    "%load_ext lab_black"
   ]
  },
  {
   "cell_type": "markdown",
   "id": "0f932990-a75e-4e27-8823-bf6b3b9a0f79",
   "metadata": {},
   "source": [
    "## 1. Packages to install"
   ]
  },
  {
   "cell_type": "code",
   "execution_count": 2,
   "id": "e05eda85-d6f3-4afd-8a0b-b2c88dc93c13",
   "metadata": {},
   "outputs": [],
   "source": [
    "import json\n",
    "import requests\n",
    "import yaml"
   ]
  },
  {
   "cell_type": "markdown",
   "id": "865c8cc5-b80a-489a-b0c5-14fad09daa78",
   "metadata": {},
   "source": [
    "## 2. Load key from stored google_credentials.yml"
   ]
  },
  {
   "cell_type": "code",
   "execution_count": 1,
   "id": "45184fe6-e38a-491b-8510-0454cd985dd3",
   "metadata": {},
   "outputs": [],
   "source": [
    "# load key from .yaml file (get from file below)\n",
    "#key_dict = yaml.load(open(\"google_credentials.yml\"), Loader=yaml.FullLoader)\n",
    "#gmaps_key = key_dict[\"key\"]"
   ]
  },
  {
   "cell_type": "code",
   "execution_count": null,
   "id": "522074a4-a098-4551-a6d4-5f92ac1d6ba2",
   "metadata": {},
   "outputs": [],
   "source": [
    "# loaded key\n",
    "gmaps_key"
   ]
  },
  {
   "cell_type": "markdown",
   "id": "b2ec9b32-fbfc-470b-8f8e-69fb13e44d5f",
   "metadata": {},
   "source": [
    "## 3. What are the geographic coordinates of the stadium in Lugano?"
   ]
  },
  {
   "cell_type": "code",
   "execution_count": null,
   "id": "f1e44e00-8456-4b09-84cf-0e88e37e7f32",
   "metadata": {},
   "outputs": [],
   "source": [
    "# a find place request is an HTTP URL of the following form\n",
    "https://maps.googleapis.com/maps/api/place/findplacefromtext/output?parameters"
   ]
  },
  {
   "cell_type": "code",
   "execution_count": 5,
   "id": "1537d2fd-9841-4eb9-982a-be780a14c77d",
   "metadata": {},
   "outputs": [],
   "source": [
    "# url to use for query\n",
    "url = \"https://maps.googleapis.com/maps/api/place/findplacefromtext/json?\""
   ]
  },
  {
   "cell_type": "code",
   "execution_count": 6,
   "id": "b340c4a2-a5d2-4466-809b-362c76980533",
   "metadata": {},
   "outputs": [],
   "source": [
    "# find place string on which to search\n",
    "query = \"Lugano stadium\"\n",
    "\n",
    "# place attributes fields\n",
    "fields = [\"formatted_address\", \"name\", \"geometry\"]\n",
    "\n",
    "# get method of requests module to return response object\n",
    "resp = requests.get(\n",
    "    f\"{url}input={query}&inputtype=textquery&fields={','.join(fields)}&key={gmaps_key}\"\n",
    ")"
   ]
  },
  {
   "cell_type": "code",
   "execution_count": 7,
   "id": "c0caabf1-9297-4c8d-94de-390fd5e0e877",
   "metadata": {},
   "outputs": [
    {
     "data": {
      "text/plain": [
       "'{\\n   \"candidates\" : [\\n      {\\n         \"formatted_address\" : \"Via Trevano 100, 6900 Lugano, Schweiz\",\\n         \"geometry\" : {\\n            \"location\" : {\\n               \"lat\" : 46.0241629,\\n               \"lng\" : 8.960653599999999\\n            },\\n            \"viewport\" : {\\n               \"northeast\" : {\\n                  \"lat\" : 46.02552987989272,\\n                  \"lng\" : 8.961946329892724\\n               },\\n               \"southwest\" : {\\n                  \"lat\" : 46.02283022010728,\\n                  \"lng\" : 8.95924667010728\\n               }\\n            }\\n         },\\n         \"name\" : \"Stadio comunale di Cornaredo\"\\n      }\\n   ],\\n   \"status\" : \"OK\"\\n}\\n'"
      ]
     },
     "execution_count": 7,
     "metadata": {},
     "output_type": "execute_result"
    }
   ],
   "source": [
    "# request content\n",
    "resp.text"
   ]
  },
  {
   "cell_type": "code",
   "execution_count": 8,
   "id": "b136166e-00f1-42aa-9c81-75dacd837890",
   "metadata": {},
   "outputs": [
    {
     "data": {
      "text/plain": [
       "{'lat': 46.0241629, 'lng': 8.960653599999999}"
      ]
     },
     "execution_count": 8,
     "metadata": {},
     "output_type": "execute_result"
    }
   ],
   "source": [
    "# deserialize\n",
    "stadium_lugano_loc = resp.json()[\"candidates\"][0][\"geometry\"][\"location\"]\n",
    "\n",
    "stadium_lugano_loc"
   ]
  },
  {
   "cell_type": "code",
   "execution_count": 9,
   "id": "18e42edf-8ec2-4710-9295-ceb5ecb513ec",
   "metadata": {},
   "outputs": [
    {
     "data": {
      "text/plain": [
       "dict"
      ]
     },
     "execution_count": 9,
     "metadata": {},
     "output_type": "execute_result"
    }
   ],
   "source": [
    "type(stadium_lugano_loc)"
   ]
  },
  {
   "cell_type": "markdown",
   "id": "d1439f0b-2153-4a4c-9d24-ab7c6c9bbcaa",
   "metadata": {},
   "source": [
    "## 4. Find the name of the sushi restaurant closest to the stadium in Lugano."
   ]
  },
  {
   "cell_type": "code",
   "execution_count": 10,
   "id": "244a5921-08a0-41ac-a3ec-cb6e88e53aa4",
   "metadata": {},
   "outputs": [],
   "source": [
    "# find place string on which to search\n",
    "query = \"Sushi restaurant\"\n",
    "\n",
    "# place attributes fields\n",
    "fields = [\"formatted_address\", \"name\", \"geometry\"]\n",
    "\n",
    "# get method of requests module to return response object\n",
    "resp = requests.get(\n",
    "    # locationbias -> prefer results in a specific area\n",
    "    f\"{url}input={query}&inputtype=textquery&fields={','.join(fields)}&locationbias=point:{stadium_lugano_loc['lat']},{stadium_lugano_loc['lng']}&key={gmaps_key}\"\n",
    ")"
   ]
  },
  {
   "cell_type": "code",
   "execution_count": 11,
   "id": "ef1131b0-f14c-49dd-930f-ff869d08ec94",
   "metadata": {},
   "outputs": [
    {
     "data": {
      "text/plain": [
       "{'formatted_address': 'Via Trevano 83, 6900 Lugano, Schweiz',\n",
       " 'geometry': {'location': {'lat': 46.0201098, 'lng': 8.9576408},\n",
       "  'viewport': {'northeast': {'lat': 46.02140652989272,\n",
       "    'lng': 8.959084479892722},\n",
       "   'southwest': {'lat': 46.01870687010727, 'lng': 8.956384820107278}}},\n",
       " 'name': 'Al Ristoro'}"
      ]
     },
     "execution_count": 11,
     "metadata": {},
     "output_type": "execute_result"
    }
   ],
   "source": [
    "# response dictionary for result\n",
    "resp.json()[\"candidates\"][0]"
   ]
  },
  {
   "cell_type": "code",
   "execution_count": 12,
   "id": "0784a3de-f80a-4cef-a403-7d30aa6cb897",
   "metadata": {},
   "outputs": [
    {
     "data": {
      "text/plain": [
       "'Al Ristoro'"
      ]
     },
     "execution_count": 12,
     "metadata": {},
     "output_type": "execute_result"
    }
   ],
   "source": [
    "# get name within result response\n",
    "resp.json()[\"candidates\"][0][\"name\"]"
   ]
  },
  {
   "cell_type": "markdown",
   "id": "49ec814e-9020-486e-a8c2-56bc3a910035",
   "metadata": {},
   "source": [
    "## 5. How many different street would you need to take from the soccer stadium in Lugano to the Tennis Club Lido Lugano?"
   ]
  },
  {
   "cell_type": "markdown",
   "id": "0c660e35-df85-401b-a679-02b5cf80412a",
   "metadata": {},
   "source": [
    "[Direction API documentation](https://developers.google.com/maps/documentation/directions/get-directions#DirectionsRequests)"
   ]
  },
  {
   "cell_type": "code",
   "execution_count": null,
   "id": "86be998f-6661-43db-b782-cd3b474a2abd",
   "metadata": {},
   "outputs": [],
   "source": [
    "# a direction API request has the following form\n",
    "https://maps.googleapis.com/maps/api/directions/outputFormat?parameters"
   ]
  },
  {
   "cell_type": "code",
   "execution_count": 13,
   "id": "20379d49-b510-402c-98ad-1cf7d5f4a7e6",
   "metadata": {},
   "outputs": [],
   "source": [
    "# base url\n",
    "url = \"https://maps.googleapis.com/maps/api/directions/json?\""
   ]
  },
  {
   "cell_type": "code",
   "execution_count": 14,
   "id": "37aee691-a6f3-4f2b-8202-657df5f2fe6a",
   "metadata": {},
   "outputs": [],
   "source": [
    "# origin required parameter\n",
    "origin = \"Cornaredo stadium Lugano\""
   ]
  },
  {
   "cell_type": "code",
   "execution_count": 15,
   "id": "f5603fe7-7c3b-4709-a716-f9c35e085eac",
   "metadata": {},
   "outputs": [],
   "source": [
    "# destination required parameter\n",
    "destination = \"Tennis Club Lido Lugano\""
   ]
  },
  {
   "cell_type": "code",
   "execution_count": 16,
   "id": "e38e0550-36c0-4e8a-85df-55b35c4fcfc8",
   "metadata": {},
   "outputs": [],
   "source": [
    "# url to use for query\n",
    "full_url = f\"{url}origin={'+'.join(origin)}&destination={'+'.join(destination)}&key={gmaps_key}\""
   ]
  },
  {
   "cell_type": "code",
   "execution_count": 17,
   "id": "933bdfdd-52f8-4c0d-bb0e-b8377a86509e",
   "metadata": {},
   "outputs": [
    {
     "data": {
      "text/plain": [
       "{'geocoded_waypoints': [{'geocoder_status': 'OK',\n",
       "   'partial_match': True,\n",
       "   'place_id': 'ChIJ03lm9mwyhEcRfjJpq3krFyM',\n",
       "   'types': ['establishment', 'point_of_interest', 'stadium']},\n",
       "  {'geocoder_status': 'OK',\n",
       "   'partial_match': True,\n",
       "   'place_id': 'ChIJsV_Y1PYthEcRv4tZUqx81MU',\n",
       "   'types': ['establishment', 'point_of_interest']}],\n",
       " 'routes': [{'bounds': {'northeast': {'lat': 46.0248838, 'lng': 8.9646055},\n",
       "    'southwest': {'lat': 46.0058356, 'lng': 8.9595836}},\n",
       "   'copyrights': 'Map data ©2023',\n",
       "   'legs': [{'distance': {'text': '2.8 km', 'value': 2793},\n",
       "     'duration': {'text': '7 mins', 'value': 444},\n",
       "     'end_address': 'Viale Castagnola 10, 6906 Lugano, Switzerland',\n",
       "     'end_location': {'lat': 46.0062319, 'lng': 8.9646055},\n",
       "     'start_address': 'Via Trevano 100, 6900 Lugano, Switzerland',\n",
       "     'start_location': {'lat': 46.0242373, 'lng': 8.9604069},\n",
       "     'steps': [{'distance': {'text': '35 m', 'value': 35},\n",
       "       'duration': {'text': '1 min', 'value': 8},\n",
       "       'end_location': {'lat': 46.02452359999999, 'lng': 8.9605862},\n",
       "       'html_instructions': 'Head <b>northeast</b> on <b>Via Trevano</b> toward <b>Via Sonvico</b>',\n",
       "       'polyline': {'points': 'ob|wGqauu@w@c@'},\n",
       "       'start_location': {'lat': 46.0242373, 'lng': 8.9604069},\n",
       "       'travel_mode': 'DRIVING'},\n",
       "      {'distance': {'text': '0.2 km', 'value': 228},\n",
       "       'duration': {'text': '1 min', 'value': 60},\n",
       "       'end_location': {'lat': 46.0248126, 'lng': 8.9633512},\n",
       "       'html_instructions': 'Continue onto <b>Via Sonvico</b>',\n",
       "       'polyline': {'points': 'gd|wGubuu@k@{@Mc@GUCMAW?s@?C@eC?g@?Q?e@@_A@CFi@'},\n",
       "       'start_location': {'lat': 46.02452359999999, 'lng': 8.9605862},\n",
       "       'travel_mode': 'DRIVING'},\n",
       "      {'distance': {'text': '76 m', 'value': 76},\n",
       "       'duration': {'text': '1 min', 'value': 13},\n",
       "       'end_location': {'lat': 46.0245323, 'lng': 8.9642421},\n",
       "       'html_instructions': 'Continue straight onto <b>Via Alla Bozzoreda</b>',\n",
       "       'maneuver': 'straight',\n",
       "       'polyline': {'points': 'af|wG}suu@R{@Ns@RaA'},\n",
       "       'start_location': {'lat': 46.0248126, 'lng': 8.9633512},\n",
       "       'travel_mode': 'DRIVING'},\n",
       "      {'distance': {'text': '1.5 km', 'value': 1527},\n",
       "       'duration': {'text': '3 mins', 'value': 189},\n",
       "       'end_location': {'lat': 46.0112723, 'lng': 8.959792499999999},\n",
       "       'html_instructions': 'Turn <b>right</b> onto <b>Via Giacomo e Filippo Ciani</b>',\n",
       "       'maneuver': 'turn-right',\n",
       "       'polyline': {'points': 'id|wGoyuu@z@M`@Tt@ZhEpBlB~@JRLFt@\\\\v@VXHtAR\\\\D@?j@DXBnBPlALxALP@\\\\BPBLHrAF\\\\@f@D~@HrA\\\\NDPDz@VNDj@T`@CZL`@LjC~@rA`@lBl@b@NHB^HbDdAfAXbBVF@jAP`BV'},\n",
       "       'start_location': {'lat': 46.0245323, 'lng': 8.9642421},\n",
       "       'travel_mode': 'DRIVING'},\n",
       "      {'distance': {'text': '0.6 km', 'value': 616},\n",
       "       'duration': {'text': '2 mins', 'value': 132},\n",
       "       'end_location': {'lat': 46.0058356, 'lng': 8.9606246},\n",
       "       'html_instructions': 'Continue onto <b>Viale Cassarate</b>',\n",
       "       'polyline': {'points': 'mqywGu}tu@JBZBx@FpAJl@Fh@B`@@PAN?^EB?v@KXIb@ShAk@j@[ZKHCJCf@E|D]fCSf@GTA'},\n",
       "       'start_location': {'lat': 46.0112723, 'lng': 8.959792499999999},\n",
       "       'travel_mode': 'DRIVING'},\n",
       "      {'distance': {'text': '0.3 km', 'value': 311},\n",
       "       'duration': {'text': '1 min', 'value': 42},\n",
       "       'end_location': {'lat': 46.0062319, 'lng': 8.9646055},\n",
       "       'html_instructions': 'Turn <b>left</b> onto <b>Viale Castagnola</b><div style=\"font-size:0.9em\">Destination will be on the right</div>',\n",
       "       'maneuver': 'turn-left',\n",
       "       'polyline': {'points': 'ooxwG{buu@?SAMA_@CWBW]wGMuBCc@OqBGiAAa@?Q?I'},\n",
       "       'start_location': {'lat': 46.0058356, 'lng': 8.9606246},\n",
       "       'travel_mode': 'DRIVING'}],\n",
       "     'traffic_speed_entry': [],\n",
       "     'via_waypoint': []}],\n",
       "   'overview_polyline': {'points': 'ob|wGqauu@w@c@k@{@Uy@Ee@?w@@eFBcAFi@R{@b@uBz@M`@T~FlClB~@JRbAd@pA`@rBXl@DpHp@n@DPBLHpBHfBNpD`Az@Z`@CZLlDlA`EnAl@R^HbDdAfAXbBVrARlBZtAJ~BRjADdAGpAUlB_AfAg@TGtK_ATA?SCm@CWBWk@mKSuCIkB?['},\n",
       "   'summary': 'Via Giacomo e Filippo Ciani',\n",
       "   'warnings': [],\n",
       "   'waypoint_order': []}],\n",
       " 'status': 'OK'}"
      ]
     },
     "execution_count": 17,
     "metadata": {},
     "output_type": "execute_result"
    }
   ],
   "source": [
    "# get method of requests module to return response object (deserialized)\n",
    "resp = requests.get(full_url).json()\n",
    "resp"
   ]
  },
  {
   "cell_type": "code",
   "execution_count": 18,
   "id": "796bb069-41d4-467f-8a64-939c74ef2f94",
   "metadata": {},
   "outputs": [
    {
     "data": {
      "text/plain": [
       "dict_keys(['geocoded_waypoints', 'routes', 'status'])"
      ]
     },
     "execution_count": 18,
     "metadata": {},
     "output_type": "execute_result"
    }
   ],
   "source": [
    "# check response keys\n",
    "resp.keys()"
   ]
  },
  {
   "cell_type": "code",
   "execution_count": 19,
   "id": "07268015-c1fa-4b9f-8c01-fb880a4672f6",
   "metadata": {},
   "outputs": [
    {
     "data": {
      "text/plain": [
       "[{'bounds': {'northeast': {'lat': 46.0248838, 'lng': 8.9646055},\n",
       "   'southwest': {'lat': 46.0058356, 'lng': 8.9595836}},\n",
       "  'copyrights': 'Map data ©2023',\n",
       "  'legs': [{'distance': {'text': '2.8 km', 'value': 2793},\n",
       "    'duration': {'text': '7 mins', 'value': 444},\n",
       "    'end_address': 'Viale Castagnola 10, 6906 Lugano, Switzerland',\n",
       "    'end_location': {'lat': 46.0062319, 'lng': 8.9646055},\n",
       "    'start_address': 'Via Trevano 100, 6900 Lugano, Switzerland',\n",
       "    'start_location': {'lat': 46.0242373, 'lng': 8.9604069},\n",
       "    'steps': [{'distance': {'text': '35 m', 'value': 35},\n",
       "      'duration': {'text': '1 min', 'value': 8},\n",
       "      'end_location': {'lat': 46.02452359999999, 'lng': 8.9605862},\n",
       "      'html_instructions': 'Head <b>northeast</b> on <b>Via Trevano</b> toward <b>Via Sonvico</b>',\n",
       "      'polyline': {'points': 'ob|wGqauu@w@c@'},\n",
       "      'start_location': {'lat': 46.0242373, 'lng': 8.9604069},\n",
       "      'travel_mode': 'DRIVING'},\n",
       "     {'distance': {'text': '0.2 km', 'value': 228},\n",
       "      'duration': {'text': '1 min', 'value': 60},\n",
       "      'end_location': {'lat': 46.0248126, 'lng': 8.9633512},\n",
       "      'html_instructions': 'Continue onto <b>Via Sonvico</b>',\n",
       "      'polyline': {'points': 'gd|wGubuu@k@{@Mc@GUCMAW?s@?C@eC?g@?Q?e@@_A@CFi@'},\n",
       "      'start_location': {'lat': 46.02452359999999, 'lng': 8.9605862},\n",
       "      'travel_mode': 'DRIVING'},\n",
       "     {'distance': {'text': '76 m', 'value': 76},\n",
       "      'duration': {'text': '1 min', 'value': 13},\n",
       "      'end_location': {'lat': 46.0245323, 'lng': 8.9642421},\n",
       "      'html_instructions': 'Continue straight onto <b>Via Alla Bozzoreda</b>',\n",
       "      'maneuver': 'straight',\n",
       "      'polyline': {'points': 'af|wG}suu@R{@Ns@RaA'},\n",
       "      'start_location': {'lat': 46.0248126, 'lng': 8.9633512},\n",
       "      'travel_mode': 'DRIVING'},\n",
       "     {'distance': {'text': '1.5 km', 'value': 1527},\n",
       "      'duration': {'text': '3 mins', 'value': 189},\n",
       "      'end_location': {'lat': 46.0112723, 'lng': 8.959792499999999},\n",
       "      'html_instructions': 'Turn <b>right</b> onto <b>Via Giacomo e Filippo Ciani</b>',\n",
       "      'maneuver': 'turn-right',\n",
       "      'polyline': {'points': 'id|wGoyuu@z@M`@Tt@ZhEpBlB~@JRLFt@\\\\v@VXHtAR\\\\D@?j@DXBnBPlALxALP@\\\\BPBLHrAF\\\\@f@D~@HrA\\\\NDPDz@VNDj@T`@CZL`@LjC~@rA`@lBl@b@NHB^HbDdAfAXbBVF@jAP`BV'},\n",
       "      'start_location': {'lat': 46.0245323, 'lng': 8.9642421},\n",
       "      'travel_mode': 'DRIVING'},\n",
       "     {'distance': {'text': '0.6 km', 'value': 616},\n",
       "      'duration': {'text': '2 mins', 'value': 132},\n",
       "      'end_location': {'lat': 46.0058356, 'lng': 8.9606246},\n",
       "      'html_instructions': 'Continue onto <b>Viale Cassarate</b>',\n",
       "      'polyline': {'points': 'mqywGu}tu@JBZBx@FpAJl@Fh@B`@@PAN?^EB?v@KXIb@ShAk@j@[ZKHCJCf@E|D]fCSf@GTA'},\n",
       "      'start_location': {'lat': 46.0112723, 'lng': 8.959792499999999},\n",
       "      'travel_mode': 'DRIVING'},\n",
       "     {'distance': {'text': '0.3 km', 'value': 311},\n",
       "      'duration': {'text': '1 min', 'value': 42},\n",
       "      'end_location': {'lat': 46.0062319, 'lng': 8.9646055},\n",
       "      'html_instructions': 'Turn <b>left</b> onto <b>Viale Castagnola</b><div style=\"font-size:0.9em\">Destination will be on the right</div>',\n",
       "      'maneuver': 'turn-left',\n",
       "      'polyline': {'points': 'ooxwG{buu@?SAMA_@CWBW]wGMuBCc@OqBGiAAa@?Q?I'},\n",
       "      'start_location': {'lat': 46.0058356, 'lng': 8.9606246},\n",
       "      'travel_mode': 'DRIVING'}],\n",
       "    'traffic_speed_entry': [],\n",
       "    'via_waypoint': []}],\n",
       "  'overview_polyline': {'points': 'ob|wGqauu@w@c@k@{@Uy@Ee@?w@@eFBcAFi@R{@b@uBz@M`@T~FlClB~@JRbAd@pA`@rBXl@DpHp@n@DPBLHpBHfBNpD`Az@Z`@CZLlDlA`EnAl@R^HbDdAfAXbBVrARlBZtAJ~BRjADdAGpAUlB_AfAg@TGtK_ATA?SCm@CWBWk@mKSuCIkB?['},\n",
       "  'summary': 'Via Giacomo e Filippo Ciani',\n",
       "  'warnings': [],\n",
       "  'waypoint_order': []}]"
      ]
     },
     "execution_count": 19,
     "metadata": {},
     "output_type": "execute_result"
    }
   ],
   "source": [
    "# get routes key information\n",
    "resp[\"routes\"]"
   ]
  },
  {
   "cell_type": "code",
   "execution_count": 20,
   "id": "2dbf4022-8f6e-4c67-908c-2e23a28f223a",
   "metadata": {},
   "outputs": [
    {
     "data": {
      "text/plain": [
       "dict_keys(['bounds', 'copyrights', 'legs', 'overview_polyline', 'summary', 'warnings', 'waypoint_order'])"
      ]
     },
     "execution_count": 20,
     "metadata": {},
     "output_type": "execute_result"
    }
   ],
   "source": [
    "# explore dictionary keys within routes\n",
    "resp[\"routes\"][0].keys()"
   ]
  },
  {
   "cell_type": "code",
   "execution_count": 21,
   "id": "5ccebbdb-2126-4287-8bc4-0ce49870e02b",
   "metadata": {},
   "outputs": [
    {
     "data": {
      "text/plain": [
       "dict_keys(['distance', 'duration', 'end_address', 'end_location', 'start_address', 'start_location', 'steps', 'traffic_speed_entry', 'via_waypoint'])"
      ]
     },
     "execution_count": 21,
     "metadata": {},
     "output_type": "execute_result"
    }
   ],
   "source": [
    "# explore legs keys\n",
    "resp[\"routes\"][0][\"legs\"][0].keys()"
   ]
  },
  {
   "cell_type": "code",
   "execution_count": 22,
   "id": "6f9b6552-ff6b-4960-8979-8fbb7ec1da6d",
   "metadata": {},
   "outputs": [
    {
     "data": {
      "text/plain": [
       "'Via Trevano 100, 6900 Lugano, Switzerland'"
      ]
     },
     "execution_count": 22,
     "metadata": {},
     "output_type": "execute_result"
    }
   ],
   "source": [
    "# get values for start_address key\n",
    "resp[\"routes\"][0][\"legs\"][0][\"start_address\"]"
   ]
  },
  {
   "cell_type": "code",
   "execution_count": 23,
   "id": "0307778e-f237-43b6-9672-da87c610690e",
   "metadata": {},
   "outputs": [
    {
     "data": {
      "text/plain": [
       "'Viale Castagnola 10, 6906 Lugano, Switzerland'"
      ]
     },
     "execution_count": 23,
     "metadata": {},
     "output_type": "execute_result"
    }
   ],
   "source": [
    "# get values for end_address key\n",
    "resp[\"routes\"][0][\"legs\"][0][\"end_address\"]"
   ]
  },
  {
   "cell_type": "code",
   "execution_count": 24,
   "id": "add29346-d8be-4444-875a-392c816006f9",
   "metadata": {},
   "outputs": [
    {
     "data": {
      "text/plain": [
       "6"
      ]
     },
     "execution_count": 24,
     "metadata": {},
     "output_type": "execute_result"
    }
   ],
   "source": [
    "# number of steps required (atomic directions)\n",
    "len(resp[\"routes\"][0][\"legs\"][0][\"steps\"])"
   ]
  },
  {
   "cell_type": "code",
   "execution_count": 25,
   "id": "c5e0b837-0cb4-408e-9eea-a383d6a070dc",
   "metadata": {},
   "outputs": [
    {
     "data": {
      "text/plain": [
       "{'distance': {'text': '35 m', 'value': 35},\n",
       " 'duration': {'text': '1 min', 'value': 8},\n",
       " 'end_location': {'lat': 46.02452359999999, 'lng': 8.9605862},\n",
       " 'html_instructions': 'Head <b>northeast</b> on <b>Via Trevano</b> toward <b>Via Sonvico</b>',\n",
       " 'polyline': {'points': 'ob|wGqauu@w@c@'},\n",
       " 'start_location': {'lat': 46.0242373, 'lng': 8.9604069},\n",
       " 'travel_mode': 'DRIVING'}"
      ]
     },
     "execution_count": 25,
     "metadata": {},
     "output_type": "execute_result"
    }
   ],
   "source": [
    "# examine step\n",
    "resp[\"routes\"][0][\"legs\"][0][\"steps\"][0]"
   ]
  },
  {
   "cell_type": "markdown",
   "id": "7cc62dc7-9530-420e-9d0c-647e36060cb7",
   "metadata": {},
   "source": [
    "Google maps sometimes tells us to 'stay on the street'. This would be shown as a step, therefore another solution to count the number of street needs to be found."
   ]
  },
  {
   "cell_type": "code",
   "execution_count": 26,
   "id": "a8b5d9fd-bfd3-402d-8239-4ee132e8bc81",
   "metadata": {},
   "outputs": [
    {
     "data": {
      "text/plain": [
       "['Head <b>northeast</b> on <b>Via Trevano</b> toward <b>Via Sonvico</b>',\n",
       " 'Continue onto <b>Via Sonvico</b>',\n",
       " 'Continue straight onto <b>Via Alla Bozzoreda</b>',\n",
       " 'Turn <b>right</b> onto <b>Via Giacomo e Filippo Ciani</b>',\n",
       " 'Continue onto <b>Viale Cassarate</b>',\n",
       " 'Turn <b>left</b> onto <b>Viale Castagnola</b><div style=\"font-size:0.9em\">Destination will be on the right</div>']"
      ]
     },
     "execution_count": 26,
     "metadata": {},
     "output_type": "execute_result"
    }
   ],
   "source": [
    "# get html_instructions for each step\n",
    "[step[\"html_instructions\"] for step in resp[\"routes\"][0][\"legs\"][0][\"steps\"]]"
   ]
  },
  {
   "cell_type": "markdown",
   "id": "d64c75d8-8f81-4489-a96c-544a2d31a54b",
   "metadata": {},
   "source": [
    "To get rid of the steps issue mentioned above we need to extract latitude and longitude for each component and get the name of the road using the geocode API."
   ]
  },
  {
   "cell_type": "code",
   "execution_count": 27,
   "id": "63677d4a-debc-4e03-95e7-7329b32f7ed2",
   "metadata": {},
   "outputs": [
    {
     "data": {
      "text/plain": [
       "[{'lat': 46.0242373, 'lng': 8.9604069},\n",
       " {'lat': 46.02452359999999, 'lng': 8.9605862},\n",
       " {'lat': 46.02452359999999, 'lng': 8.9605862},\n",
       " {'lat': 46.0248126, 'lng': 8.9633512},\n",
       " {'lat': 46.0248126, 'lng': 8.9633512},\n",
       " {'lat': 46.0245323, 'lng': 8.9642421},\n",
       " {'lat': 46.0245323, 'lng': 8.9642421},\n",
       " {'lat': 46.0112723, 'lng': 8.959792499999999},\n",
       " {'lat': 46.0112723, 'lng': 8.959792499999999},\n",
       " {'lat': 46.0058356, 'lng': 8.9606246},\n",
       " {'lat': 46.0058356, 'lng': 8.9606246},\n",
       " {'lat': 46.0062319, 'lng': 8.9646055}]"
      ]
     },
     "execution_count": 27,
     "metadata": {},
     "output_type": "execute_result"
    }
   ],
   "source": [
    "# extract latitude and longitude from existing response\n",
    "steps = resp[\"routes\"][0][\"legs\"][0][\"steps\"]\n",
    "lat_lon_points = []\n",
    "\n",
    "for step in steps:\n",
    "    lat_lon_points.extend([step[\"start_location\"], step[\"end_location\"]])\n",
    "\n",
    "lat_lon_points"
   ]
  },
  {
   "cell_type": "markdown",
   "id": "1a89242d-1358-4cb8-955e-ccb23869de50",
   "metadata": {},
   "source": [
    "Let's get the address for each lat/long point."
   ]
  },
  {
   "cell_type": "markdown",
   "id": "b21e63e2-bc5c-4569-840f-33a14f2bd22b",
   "metadata": {},
   "source": [
    "[Geocode request and response](https://developers.google.com/maps/documentation/geocoding/requests-geocoding#request)"
   ]
  },
  {
   "cell_type": "code",
   "execution_count": null,
   "id": "8454e048-10b2-4673-a64b-b31b248c9914",
   "metadata": {},
   "outputs": [],
   "source": [
    "# a geocoding API request has the following form\n",
    "https://maps.googleapis.com/maps/api/geocode/outputFormat?parameters"
   ]
  },
  {
   "cell_type": "code",
   "execution_count": 28,
   "id": "ef9a67a7-7d3b-439b-ac27-f8baecc9768d",
   "metadata": {},
   "outputs": [],
   "source": [
    "# base url\n",
    "url = \"https://maps.googleapis.com/maps/api/geocode/json?\""
   ]
  },
  {
   "cell_type": "code",
   "execution_count": 29,
   "id": "ab24f404-1d4d-4e3e-a749-1142d608200d",
   "metadata": {},
   "outputs": [],
   "source": [
    "# emtpy list of upcoming addresses\n",
    "resps = []"
   ]
  },
  {
   "cell_type": "code",
   "execution_count": 30,
   "id": "38a2d77c-1ca9-4805-b447-a33b2b17a42e",
   "metadata": {},
   "outputs": [],
   "source": [
    "# for loop to convert lat/lng into address\n",
    "for latlon in lat_lon_points:\n",
    "    lat = latlon[\"lat\"]\n",
    "    lon = latlon[\"lng\"]\n",
    "    full_url = f\"{url}latlng={lat},{lon}&result_type=route&key={gmaps_key}\"\n",
    "    resp = requests.get(full_url).json()\n",
    "    resps.append(resp)"
   ]
  },
  {
   "cell_type": "code",
   "execution_count": 31,
   "id": "00b3b4cb-f1dc-4d8e-9616-8d734b5d896c",
   "metadata": {},
   "outputs": [
    {
     "data": {
      "text/plain": [
       "{'address_components': [{'long_name': 'Via Trevano',\n",
       "   'short_name': 'Via Trevano',\n",
       "   'types': ['route']},\n",
       "  {'long_name': 'Lugano',\n",
       "   'short_name': 'Lugano',\n",
       "   'types': ['locality', 'political']},\n",
       "  {'long_name': 'Lugano',\n",
       "   'short_name': 'Lugano',\n",
       "   'types': ['administrative_area_level_2', 'political']},\n",
       "  {'long_name': 'Ticino',\n",
       "   'short_name': 'TI',\n",
       "   'types': ['administrative_area_level_1', 'political']},\n",
       "  {'long_name': 'Switzerland',\n",
       "   'short_name': 'CH',\n",
       "   'types': ['country', 'political']},\n",
       "  {'long_name': '6900', 'short_name': '6900', 'types': ['postal_code']}],\n",
       " 'formatted_address': 'Via Trevano, 6900 Lugano, Switzerland',\n",
       " 'geometry': {'bounds': {'northeast': {'lat': 46.02452359999999,\n",
       "    'lng': 8.9605862},\n",
       "   'southwest': {'lat': 46.0239911, 'lng': 8.960266}},\n",
       "  'location': {'lat': 46.024259, 'lng': 8.9604205},\n",
       "  'location_type': 'GEOMETRIC_CENTER',\n",
       "  'viewport': {'northeast': {'lat': 46.0256063302915,\n",
       "    'lng': 8.961775080291503},\n",
       "   'southwest': {'lat': 46.0229083697085, 'lng': 8.959077119708498}}},\n",
       " 'place_id': 'ChIJewDqaWwyhEcR1u2ed5mKvAw',\n",
       " 'types': ['route']}"
      ]
     },
     "execution_count": 31,
     "metadata": {},
     "output_type": "execute_result"
    }
   ],
   "source": [
    "# inspect first response\n",
    "resps[0][\"results\"][0]"
   ]
  },
  {
   "cell_type": "code",
   "execution_count": 32,
   "id": "571ee0e1-340f-4a65-a5f1-6cc876753c03",
   "metadata": {},
   "outputs": [
    {
     "data": {
      "text/plain": [
       "{'Via Giacomo e Filippo Ciani',\n",
       " 'Via Sonvico',\n",
       " 'Via Trevano',\n",
       " 'Viale Carlo Cattaneo',\n",
       " 'Viale Castagnola'}"
      ]
     },
     "execution_count": 32,
     "metadata": {},
     "output_type": "execute_result"
    }
   ],
   "source": [
    "# extract address component of type 'route' for each step\n",
    "route = set()\n",
    "\n",
    "for resp in resps:\n",
    "    for item in resp[\"results\"][0][\"address_components\"]:\n",
    "        if item[\"types\"] == [\"route\"]:\n",
    "            route.add(item[\"long_name\"])\n",
    "\n",
    "route"
   ]
  },
  {
   "cell_type": "code",
   "execution_count": 33,
   "id": "952de1e5-a648-466d-91ab-0032c9f7ae5a",
   "metadata": {},
   "outputs": [
    {
     "data": {
      "text/plain": [
       "5"
      ]
     },
     "execution_count": 33,
     "metadata": {},
     "output_type": "execute_result"
    }
   ],
   "source": [
    "# total number or routes to get from starting point to destination\n",
    "len(route)"
   ]
  }
 ],
 "metadata": {
  "kernelspec": {
   "display_name": "projects",
   "language": "python",
   "name": "projects"
  },
  "language_info": {
   "codemirror_mode": {
    "name": "ipython",
    "version": 3
   },
   "file_extension": ".py",
   "mimetype": "text/x-python",
   "name": "python",
   "nbconvert_exporter": "python",
   "pygments_lexer": "ipython3",
   "version": "3.10.9"
  }
 },
 "nbformat": 4,
 "nbformat_minor": 5
}
