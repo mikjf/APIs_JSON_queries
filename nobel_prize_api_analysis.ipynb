{
 "cells": [
  {
   "cell_type": "markdown",
   "id": "9ef23d85-2b61-465c-b8f4-367f93ad1e8d",
   "metadata": {},
   "source": [
    "# Nobel prize analysis with API"
   ]
  },
  {
   "cell_type": "markdown",
   "id": "235461c2-acc3-4f87-9a25-3ede3a34b22d",
   "metadata": {},
   "source": [
    "The objective here is to get the nobel prize data via API and perform some analysis by converting data into dataframes."
   ]
  },
  {
   "cell_type": "code",
   "execution_count": 1,
   "id": "10c901c6-2876-4ca7-8943-484e1131175a",
   "metadata": {},
   "outputs": [],
   "source": [
    "# extension to help clean python code\n",
    "%load_ext lab_black"
   ]
  },
  {
   "cell_type": "markdown",
   "id": "0f932990-a75e-4e27-8823-bf6b3b9a0f79",
   "metadata": {},
   "source": [
    "## 1. Packages to install"
   ]
  },
  {
   "cell_type": "code",
   "execution_count": 3,
   "id": "e05eda85-d6f3-4afd-8a0b-b2c88dc93c13",
   "metadata": {},
   "outputs": [],
   "source": [
    "# loading packages as per other notebook in repository\n",
    "import json\n",
    "import requests\n",
    "import numpy as np\n",
    "import pandas as pd\n",
    "from pandas import json_normalize"
   ]
  },
  {
   "cell_type": "markdown",
   "id": "865c8cc5-b80a-489a-b0c5-14fad09daa78",
   "metadata": {},
   "source": [
    "## 2. Load data"
   ]
  },
  {
   "cell_type": "code",
   "execution_count": 4,
   "id": "5fd31374-aeed-4c6a-b26e-527e76f54935",
   "metadata": {},
   "outputs": [],
   "source": [
    "# url to use for query\n",
    "url = \"http://api.nobelprize.org/v1/prize.json\""
   ]
  },
  {
   "cell_type": "code",
   "execution_count": 9,
   "id": "1b01ffbd-e02e-4175-a233-63d55568b834",
   "metadata": {},
   "outputs": [
    {
     "data": {
      "text/plain": [
       "dict"
      ]
     },
     "execution_count": 9,
     "metadata": {},
     "output_type": "execute_result"
    }
   ],
   "source": [
    "# get and deserialize data into dictionary\n",
    "data = requests.get(url).json()\n",
    "type(data)"
   ]
  },
  {
   "cell_type": "code",
   "execution_count": 11,
   "id": "86baa7f9-7ae1-4538-9000-08bc7cabd424",
   "metadata": {},
   "outputs": [],
   "source": [
    "# save data in json format\n",
    "with open(\"nobel_prize.json\", \"w\") as out_file:\n",
    "    json.dump(data, out_file)"
   ]
  },
  {
   "cell_type": "code",
   "execution_count": 12,
   "id": "3ac7d76d-885e-4271-a02d-6da17e4fed5f",
   "metadata": {},
   "outputs": [],
   "source": [
    "# load data from nobel_prize.json if needed\n",
    "# data = json.load(open('nobel_prize.json)"
   ]
  },
  {
   "cell_type": "markdown",
   "id": "db4800f8-ffbb-4211-b93c-bc080ba9fc57",
   "metadata": {},
   "source": [
    "## 3. Explore data"
   ]
  },
  {
   "cell_type": "code",
   "execution_count": 17,
   "id": "e0a1a8c0-b28e-4ca7-8f4d-15cfd530f883",
   "metadata": {},
   "outputs": [
    {
     "data": {
      "text/plain": [
       "dict_keys(['prizes'])"
      ]
     },
     "execution_count": 17,
     "metadata": {},
     "output_type": "execute_result"
    }
   ],
   "source": [
    "# key values\n",
    "data.keys()"
   ]
  },
  {
   "cell_type": "code",
   "execution_count": 19,
   "id": "a3f82be7-22d7-4214-a580-324da581eee7",
   "metadata": {},
   "outputs": [
    {
     "data": {
      "text/plain": [
       "[{'year': '2022',\n",
       "  'category': 'chemistry',\n",
       "  'laureates': [{'id': '1015',\n",
       "    'firstname': 'Carolyn',\n",
       "    'surname': 'Bertozzi',\n",
       "    'motivation': '\"for the development of click chemistry and bioorthogonal chemistry\"',\n",
       "    'share': '3'},\n",
       "   {'id': '1016',\n",
       "    'firstname': 'Morten',\n",
       "    'surname': 'Meldal',\n",
       "    'motivation': '\"for the development of click chemistry and bioorthogonal chemistry\"',\n",
       "    'share': '3'},\n",
       "   {'id': '743',\n",
       "    'firstname': 'Barry',\n",
       "    'surname': 'Sharpless',\n",
       "    'motivation': '\"for the development of click chemistry and bioorthogonal chemistry\"',\n",
       "    'share': '3'}]},\n",
       " {'year': '2022',\n",
       "  'category': 'economics',\n",
       "  'laureates': [{'id': '1021',\n",
       "    'firstname': 'Ben',\n",
       "    'surname': 'Bernanke',\n",
       "    'motivation': '\"for research on banks and financial crises\"',\n",
       "    'share': '3'},\n",
       "   {'id': '1022',\n",
       "    'firstname': 'Douglas',\n",
       "    'surname': 'Diamond',\n",
       "    'motivation': '\"for research on banks and financial crises\"',\n",
       "    'share': '3'},\n",
       "   {'id': '1023',\n",
       "    'firstname': 'Philip',\n",
       "    'surname': 'Dybvig',\n",
       "    'motivation': '\"for research on banks and financial crises\"',\n",
       "    'share': '3'}]}]"
      ]
     },
     "execution_count": 19,
     "metadata": {},
     "output_type": "execute_result"
    }
   ],
   "source": [
    "# explore the content of key 'prizes'\n",
    "data[\"prizes\"][:2]"
   ]
  },
  {
   "cell_type": "code",
   "execution_count": 22,
   "id": "9d467d85-0ee6-4941-aa02-9204da95c665",
   "metadata": {},
   "outputs": [
    {
     "data": {
      "text/plain": [
       "dict_keys(['year', 'category', 'laureates'])"
      ]
     },
     "execution_count": 22,
     "metadata": {},
     "output_type": "execute_result"
    }
   ],
   "source": [
    "# check inner keys for single dictionary within key 'prizes'\n",
    "data[\"prizes\"][0].keys()"
   ]
  },
  {
   "cell_type": "markdown",
   "id": "06af6053-3bab-4b03-acc3-f1b3f573536e",
   "metadata": {},
   "source": [
    "## 4. Number of Nobel prizes given per category"
   ]
  },
  {
   "cell_type": "markdown",
   "id": "319dc1f3-9a34-49e8-9670-6f6d05fd0a6c",
   "metadata": {},
   "source": [
    "Solution with dictionaries:"
   ]
  },
  {
   "cell_type": "code",
   "execution_count": 25,
   "id": "40ac999d-e869-4d7b-9245-c2e50a390645",
   "metadata": {},
   "outputs": [
    {
     "name": "stdout",
     "output_type": "stream",
     "text": [
      "['2022', '2022', '2022', '2022', '2022']\n",
      "['chemistry', 'economics', 'literature', 'peace', 'physics']\n"
     ]
    }
   ],
   "source": [
    "# 'prizes' key data\n",
    "data_prizes = data[\"prizes\"]\n",
    "\n",
    "# empty lists\n",
    "years = []\n",
    "categories = []\n",
    "\n",
    "# for loop\n",
    "for item in data_prizes:\n",
    "    years.append(item[\"year\"])\n",
    "    categories.append(item[\"category\"])\n",
    "\n",
    "# check output\n",
    "print(years[:5])\n",
    "print(categories[:5])"
   ]
  },
  {
   "cell_type": "code",
   "execution_count": 33,
   "id": "2c5f260b-8c34-4977-93e6-ff0a7455d031",
   "metadata": {},
   "outputs": [],
   "source": [
    "# find sorted unique elements of array\n",
    "unique_categories = np.unique(categories)"
   ]
  },
  {
   "cell_type": "code",
   "execution_count": 34,
   "id": "3c306d89-9755-46cb-ae34-f6df7b6dd1aa",
   "metadata": {},
   "outputs": [
    {
     "data": {
      "text/plain": [
       "{'chemistry': 122,\n",
       " 'economics': 54,\n",
       " 'literature': 122,\n",
       " 'medicine': 122,\n",
       " 'peace': 122,\n",
       " 'physics': 122}"
      ]
     },
     "execution_count": 34,
     "metadata": {},
     "output_type": "execute_result"
    }
   ],
   "source": [
    "# count nobel prizes per category using dictionary comprehension\n",
    "category_counts = {k: categories.count(k) for k in unique_categories}\n",
    "\n",
    "category_counts"
   ]
  },
  {
   "cell_type": "markdown",
   "id": "8fec094e-3111-4837-9df7-d828f77666a0",
   "metadata": {},
   "source": [
    "Solution with dataframes:"
   ]
  },
  {
   "cell_type": "code",
   "execution_count": 43,
   "id": "b0c4d8d6-271c-403a-99cd-5d06c95ab7d6",
   "metadata": {},
   "outputs": [
    {
     "data": {
      "text/html": [
       "<div>\n",
       "<style scoped>\n",
       "    .dataframe tbody tr th:only-of-type {\n",
       "        vertical-align: middle;\n",
       "    }\n",
       "\n",
       "    .dataframe tbody tr th {\n",
       "        vertical-align: top;\n",
       "    }\n",
       "\n",
       "    .dataframe thead th {\n",
       "        text-align: right;\n",
       "    }\n",
       "</style>\n",
       "<table border=\"1\" class=\"dataframe\">\n",
       "  <thead>\n",
       "    <tr style=\"text-align: right;\">\n",
       "      <th></th>\n",
       "      <th>year</th>\n",
       "      <th>category</th>\n",
       "      <th>laureates</th>\n",
       "      <th>overallMotivation</th>\n",
       "    </tr>\n",
       "  </thead>\n",
       "  <tbody>\n",
       "    <tr>\n",
       "      <th>0</th>\n",
       "      <td>2022</td>\n",
       "      <td>chemistry</td>\n",
       "      <td>[{'id': '1015', 'firstname': 'Carolyn', 'surna...</td>\n",
       "      <td>NaN</td>\n",
       "    </tr>\n",
       "    <tr>\n",
       "      <th>1</th>\n",
       "      <td>2022</td>\n",
       "      <td>economics</td>\n",
       "      <td>[{'id': '1021', 'firstname': 'Ben', 'surname':...</td>\n",
       "      <td>NaN</td>\n",
       "    </tr>\n",
       "    <tr>\n",
       "      <th>2</th>\n",
       "      <td>2022</td>\n",
       "      <td>literature</td>\n",
       "      <td>[{'id': '1017', 'firstname': 'Annie', 'surname...</td>\n",
       "      <td>NaN</td>\n",
       "    </tr>\n",
       "    <tr>\n",
       "      <th>3</th>\n",
       "      <td>2022</td>\n",
       "      <td>peace</td>\n",
       "      <td>[{'id': '1018', 'firstname': 'Ales', 'surname'...</td>\n",
       "      <td>NaN</td>\n",
       "    </tr>\n",
       "    <tr>\n",
       "      <th>4</th>\n",
       "      <td>2022</td>\n",
       "      <td>physics</td>\n",
       "      <td>[{'id': '1012', 'firstname': 'Alain', 'surname...</td>\n",
       "      <td>NaN</td>\n",
       "    </tr>\n",
       "  </tbody>\n",
       "</table>\n",
       "</div>"
      ],
      "text/plain": [
       "   year    category                                          laureates  \\\n",
       "0  2022   chemistry  [{'id': '1015', 'firstname': 'Carolyn', 'surna...   \n",
       "1  2022   economics  [{'id': '1021', 'firstname': 'Ben', 'surname':...   \n",
       "2  2022  literature  [{'id': '1017', 'firstname': 'Annie', 'surname...   \n",
       "3  2022       peace  [{'id': '1018', 'firstname': 'Ales', 'surname'...   \n",
       "4  2022     physics  [{'id': '1012', 'firstname': 'Alain', 'surname...   \n",
       "\n",
       "  overallMotivation  \n",
       "0               NaN  \n",
       "1               NaN  \n",
       "2               NaN  \n",
       "3               NaN  \n",
       "4               NaN  "
      ]
     },
     "execution_count": 43,
     "metadata": {},
     "output_type": "execute_result"
    }
   ],
   "source": [
    "# normalize semi-structured JSON data into a flat table\n",
    "df = json_normalize(data[\"prizes\"])\n",
    "df.head()"
   ]
  },
  {
   "cell_type": "code",
   "execution_count": 49,
   "id": "abbe9f30-41c1-4fd2-a183-7b08e6085f11",
   "metadata": {},
   "outputs": [
    {
     "data": {
      "text/html": [
       "<div>\n",
       "<style scoped>\n",
       "    .dataframe tbody tr th:only-of-type {\n",
       "        vertical-align: middle;\n",
       "    }\n",
       "\n",
       "    .dataframe tbody tr th {\n",
       "        vertical-align: top;\n",
       "    }\n",
       "\n",
       "    .dataframe thead th {\n",
       "        text-align: right;\n",
       "    }\n",
       "</style>\n",
       "<table border=\"1\" class=\"dataframe\">\n",
       "  <thead>\n",
       "    <tr style=\"text-align: right;\">\n",
       "      <th></th>\n",
       "      <th>category</th>\n",
       "      <th>count</th>\n",
       "    </tr>\n",
       "  </thead>\n",
       "  <tbody>\n",
       "    <tr>\n",
       "      <th>0</th>\n",
       "      <td>chemistry</td>\n",
       "      <td>122</td>\n",
       "    </tr>\n",
       "    <tr>\n",
       "      <th>1</th>\n",
       "      <td>literature</td>\n",
       "      <td>122</td>\n",
       "    </tr>\n",
       "    <tr>\n",
       "      <th>2</th>\n",
       "      <td>medicine</td>\n",
       "      <td>122</td>\n",
       "    </tr>\n",
       "    <tr>\n",
       "      <th>3</th>\n",
       "      <td>peace</td>\n",
       "      <td>122</td>\n",
       "    </tr>\n",
       "    <tr>\n",
       "      <th>4</th>\n",
       "      <td>physics</td>\n",
       "      <td>122</td>\n",
       "    </tr>\n",
       "    <tr>\n",
       "      <th>5</th>\n",
       "      <td>economics</td>\n",
       "      <td>54</td>\n",
       "    </tr>\n",
       "  </tbody>\n",
       "</table>\n",
       "</div>"
      ],
      "text/plain": [
       "     category  count\n",
       "0   chemistry    122\n",
       "1  literature    122\n",
       "2    medicine    122\n",
       "3       peace    122\n",
       "4     physics    122\n",
       "5   economics     54"
      ]
     },
     "execution_count": 49,
     "metadata": {},
     "output_type": "execute_result"
    }
   ],
   "source": [
    "# groupby category, add count column, rename columns, sort descending, reset index\n",
    "df.groupby([\"category\"]).agg({\"category\": \"count\"}).rename(\n",
    "    columns={\"category\": \"count\"}\n",
    ").sort_values(\"count\", ascending=False).reset_index()"
   ]
  },
  {
   "cell_type": "code",
   "execution_count": null,
   "id": "d699996c-539f-4c71-a71c-c7f7783050d5",
   "metadata": {},
   "outputs": [],
   "source": []
  }
 ],
 "metadata": {
  "kernelspec": {
   "display_name": "projects",
   "language": "python",
   "name": "projects"
  },
  "language_info": {
   "codemirror_mode": {
    "name": "ipython",
    "version": 3
   },
   "file_extension": ".py",
   "mimetype": "text/x-python",
   "name": "python",
   "nbconvert_exporter": "python",
   "pygments_lexer": "ipython3",
   "version": "3.10.9"
  }
 },
 "nbformat": 4,
 "nbformat_minor": 5
}
