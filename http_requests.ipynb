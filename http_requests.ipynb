{
 "cells": [
  {
   "cell_type": "markdown",
   "id": "6f2c71ba-9951-41f0-85c3-88873d2281dd",
   "metadata": {},
   "source": [
    "# HTTP requests"
   ]
  },
  {
   "cell_type": "markdown",
   "id": "2c41e822-4eb4-4351-9406-b40edc606892",
   "metadata": {},
   "source": [
    "Send GET, POST, PATCH and DELETE HTTP requests."
   ]
  },
  {
   "cell_type": "code",
   "execution_count": 1,
   "id": "6af22649-e96a-4878-a9d2-fadb86464bcd",
   "metadata": {},
   "outputs": [],
   "source": [
    "# extension to help clean python code\n",
    "%load_ext lab_black"
   ]
  },
  {
   "cell_type": "markdown",
   "id": "4c984143-12ea-4127-bf0f-246f1a4656df",
   "metadata": {},
   "source": [
    "## 1. Packages to install"
   ]
  },
  {
   "cell_type": "code",
   "execution_count": 2,
   "id": "fd1bb6af-4f81-454d-ad41-a28c9ae52b54",
   "metadata": {},
   "outputs": [],
   "source": [
    "# import requests package\n",
    "import requests\n",
    "\n",
    "# import json package\n",
    "import json"
   ]
  },
  {
   "cell_type": "markdown",
   "id": "648c49ce-3193-45b6-807d-312691fde221",
   "metadata": {},
   "source": [
    "## 2. HTTP request basics"
   ]
  },
  {
   "cell_type": "code",
   "execution_count": 3,
   "id": "d95d8e5a-a4df-4b9e-9489-f93281073400",
   "metadata": {},
   "outputs": [
    {
     "data": {
      "text/plain": [
       "'<!doctype html><html itemscope=\"\" itemtype=\"http://schema.org/WebPage\" lang=\"de-CH\"><head><meta content=\"text/html; charset=UTF-8\" http-equiv=\"Content-Type\"><meta content=\"/images/branding/googleg/1x/googleg_standard_color_128dp.png\" itemprop=\"image\"><title>Google</title><script nonce=\"FETrEhAy6zgc31HYieZe1A\">(function(){window.google={kEI:\\'SioYZI7EAZTrgQb01r-YDg\\',kEXPI:\\'0,1359409,6058,207,4804,2316,383,246,5,1129120,1197753,648,171,379919,16114,28684,22431,1361,283,12028,4754,12834,4998,13228,3'"
      ]
     },
     "execution_count": 3,
     "metadata": {},
     "output_type": "execute_result"
    }
   ],
   "source": [
    "resp = requests.get(\"https://www.google.com/\")\n",
    "resp.text[:500]"
   ]
  },
  {
   "cell_type": "markdown",
   "id": "eae8c9c3-b1a4-455b-9a8a-5ea6959d15ef",
   "metadata": {},
   "source": [
    "The output above is what google servers is sending back as per our 'get' request. There are a couple of important attributes that can be extracted from the request:"
   ]
  },
  {
   "cell_type": "code",
   "execution_count": 4,
   "id": "95c74e87-b945-4bf0-a301-3d4cc14a007a",
   "metadata": {},
   "outputs": [
    {
     "data": {
      "text/plain": [
       "b'<!doctype html><html itemscope=\"\" itemtype=\"http://schema.org/WebPage\" lang=\"de-CH\"><head><meta content=\"text/html; charset=UTF-8\" http-equiv=\"Content-Type\"><meta content=\"/images/branding/googleg/1x/googleg_standard_color_128dp.png\" itemprop=\"image\"><title>Google</title><script nonce=\"FETrEhAy6zgc31HYieZe1A\">(function(){window.google={kEI:\\'SioYZI7EAZTrgQb01r-YDg\\',kEXPI:\\'0,1359409,6058,207,4804,2316,383,246,5,1129120,1197753,648,171,379919,16114,28684,22431,1361,283,12028,4754,12834,4998,13228,3'"
      ]
     },
     "execution_count": 4,
     "metadata": {},
     "output_type": "execute_result"
    }
   ],
   "source": [
    "# display content\n",
    "resp.content[:500]"
   ]
  },
  {
   "cell_type": "code",
   "execution_count": 5,
   "id": "7190d459-41b3-4d6d-9ef7-daa9e97e5313",
   "metadata": {},
   "outputs": [
    {
     "data": {
      "text/plain": [
       "200"
      ]
     },
     "execution_count": 5,
     "metadata": {},
     "output_type": "execute_result"
    }
   ],
   "source": [
    "# status code (200 -> OK status code)\n",
    "resp.status_code"
   ]
  },
  {
   "cell_type": "code",
   "execution_count": 6,
   "id": "f4826706-7933-4d73-acee-e7123eb13700",
   "metadata": {},
   "outputs": [
    {
     "data": {
      "text/plain": [
       "{'Date': 'Mon, 20 Mar 2023 09:41:30 GMT', 'Expires': '-1', 'Cache-Control': 'private, max-age=0', 'Content-Type': 'text/html; charset=ISO-8859-1', 'P3P': 'CP=\"This is not a P3P policy! See g.co/p3phelp for more info.\"', 'Content-Encoding': 'gzip', 'Server': 'gws', 'X-XSS-Protection': '0', 'X-Frame-Options': 'SAMEORIGIN', 'Set-Cookie': 'SOCS=CAAaBgiAxN6gBg; expires=Thu, 18-Apr-2024 09:41:30 GMT; path=/; domain=.google.com; Secure; SameSite=lax, AEC=ARSKqsK94HsAfAWzpg1H5zXJpRgsJSq9Yrj1Hkyi2J7V413orUwWl4aCNg; expires=Sat, 16-Sep-2023 09:41:30 GMT; path=/; domain=.google.com; Secure; HttpOnly; SameSite=lax, __Secure-ENID=10.SE=JLTOelPJpENdk6JxDjuvcSOt54UU9TZmAYGHgnsDbQMKytnHqPTZh4ynE9u27g5dLkLFPiULJiC3b_GE8C6nQLJf4X8ZcmCnm31qs4dKFqxw7gfQU19Urbh_8_pgBEK_gTFh7pyhrcPxcQEHer2-xKkdjjY89g677bV0VYQXJ2E; expires=Fri, 19-Apr-2024 01:59:48 GMT; path=/; domain=.google.com; Secure; HttpOnly; SameSite=lax, CONSENT=PENDING+473; expires=Wed, 19-Mar-2025 09:41:30 GMT; path=/; domain=.google.com; Secure', 'Alt-Svc': 'h3=\":443\"; ma=2592000,h3-29=\":443\"; ma=2592000', 'Transfer-Encoding': 'chunked'}"
      ]
     },
     "execution_count": 6,
     "metadata": {},
     "output_type": "execute_result"
    }
   ],
   "source": [
    "# headers -> used to give a more detailed context of the response\n",
    "resp.headers"
   ]
  },
  {
   "cell_type": "code",
   "execution_count": 7,
   "id": "0f7d3aff-8240-43c5-97ed-48530c805a36",
   "metadata": {},
   "outputs": [
    {
     "data": {
      "text/plain": [
       "'https://www.google.com/'"
      ]
     },
     "execution_count": 7,
     "metadata": {},
     "output_type": "execute_result"
    }
   ],
   "source": [
    "# url\n",
    "resp.url"
   ]
  },
  {
   "cell_type": "code",
   "execution_count": 8,
   "id": "8ba389e1-5413-4cce-aadd-a124547248fa",
   "metadata": {},
   "outputs": [
    {
     "data": {
      "text/plain": [
       "'ISO-8859-1'"
      ]
     },
     "execution_count": 8,
     "metadata": {},
     "output_type": "execute_result"
    }
   ],
   "source": [
    "# encoding (ISO-8859-1 -> single-byte encoding that can represent the first 256 Unicode characters)\n",
    "resp.encoding"
   ]
  },
  {
   "cell_type": "code",
   "execution_count": 9,
   "id": "6c174a10-1b5a-46c4-b731-dee8034500e4",
   "metadata": {},
   "outputs": [
    {
     "data": {
      "text/plain": [
       "datetime.timedelta(microseconds=174998)"
      ]
     },
     "execution_count": 9,
     "metadata": {},
     "output_type": "execute_result"
    }
   ],
   "source": [
    "# time elapsed from sending the request to the arrival of the response\n",
    "resp.elapsed"
   ]
  },
  {
   "cell_type": "markdown",
   "id": "ee6fa187-ed16-49fb-a089-4b273612eb5d",
   "metadata": {},
   "source": [
    "## 3. APIs"
   ]
  },
  {
   "cell_type": "markdown",
   "id": "e653a95f-890c-481d-a6f2-23b8336a22bc",
   "metadata": {},
   "source": [
    "Sending a GET request to a RESTful API endpoint has the same procedure as a standard HTTP request. The difference is the format of the response which will be in JSON data instead of HTML."
   ]
  },
  {
   "cell_type": "markdown",
   "id": "35272da7-e75c-48b6-b9cc-ba942b8bd65f",
   "metadata": {},
   "source": [
    "### 3.1 Authentication"
   ]
  },
  {
   "cell_type": "markdown",
   "id": "86cc3f90-24ad-4d9e-8b5c-d80a6a6bc2c3",
   "metadata": {},
   "source": [
    "When talking to the API, usually a POST request with username and password in the request body is required. A token is received and needs to be inserted in the header of the subsequent request."
   ]
  },
  {
   "cell_type": "markdown",
   "id": "f23ddf91-9de4-4701-ae75-56d6685e57b2",
   "metadata": {},
   "source": [
    "#### 3.1.1 Load key from external file"
   ]
  },
  {
   "cell_type": "markdown",
   "id": "08efc11f-4b26-47df-998b-048f7fcce503",
   "metadata": {},
   "source": [
    "It is crucial to keep your personal key hidden from external viewers. To do this, a .json, .yaml or .yml file with the key needs to be created as it will be used to access the credentials when needed. This file needs to be in the .gitignore file as well."
   ]
  },
  {
   "cell_type": "code",
   "execution_count": 10,
   "id": "9d936e7f-db31-4fdf-a808-e6782e76612d",
   "metadata": {},
   "outputs": [],
   "source": [
    "# store the key in a variable\n",
    "key_dict = {\"key\": \"your_key\"}"
   ]
  },
  {
   "cell_type": "code",
   "execution_count": 11,
   "id": "95345027-ec44-419d-a9f2-00c3157e355e",
   "metadata": {},
   "outputs": [],
   "source": [
    "# save the key into a .json file\n",
    "with open(\"credentials.json\", \"w\") as output:\n",
    "    json.dump(key_dict, output)"
   ]
  },
  {
   "cell_type": "code",
   "execution_count": 12,
   "id": "50b010e8-fcbe-405f-8259-e083c031e7b7",
   "metadata": {},
   "outputs": [],
   "source": [
    "# access the key dictionary in the actual script\n",
    "key_json = json.load(open(\"credentials.json\"))"
   ]
  },
  {
   "cell_type": "code",
   "execution_count": 13,
   "id": "9583802a-2cc9-4906-a8c4-7956d964f066",
   "metadata": {},
   "outputs": [
    {
     "data": {
      "text/plain": [
       "'your_key'"
      ]
     },
     "execution_count": 13,
     "metadata": {},
     "output_type": "execute_result"
    }
   ],
   "source": [
    "# access the actual key\n",
    "key_json[\"key\"]"
   ]
  },
  {
   "cell_type": "markdown",
   "id": "ac55e422-9cd6-416c-9d7a-5a76c919f892",
   "metadata": {},
   "source": [
    "Let's try to access the key and save it to a credentials.json file."
   ]
  },
  {
   "cell_type": "code",
   "execution_count": null,
   "id": "46f76d66-3359-466d-8af9-ee684b218ce9",
   "metadata": {},
   "outputs": [],
   "source": [
    "# store credentials in variable with POST\n",
    "resp = requests.post(\n",
    "    \"https://motion.xyz.ch/backend/api/auth/token/\",\n",
    "    data={\"email\": \"your_email\", \"password\": \"your_password\"},\n",
    ")\n",
    "\n",
    "# get .json content to access \"access\" (key)\n",
    "login_data = resp.json()"
   ]
  },
  {
   "cell_type": "code",
   "execution_count": 15,
   "id": "d9883f8b-3669-4ee9-9093-589cbaddbb53",
   "metadata": {},
   "outputs": [
    {
     "data": {
      "text/plain": [
       "{'detail': 'No active account found with the given credentials'}"
      ]
     },
     "execution_count": 15,
     "metadata": {},
     "output_type": "execute_result"
    }
   ],
   "source": [
    "# check login_data content\n",
    "login_data"
   ]
  },
  {
   "cell_type": "code",
   "execution_count": null,
   "id": "95b1db79-b54c-4c94-ba07-3a49fa23e415",
   "metadata": {},
   "outputs": [],
   "source": [
    "# access token (key) needed\n",
    "token = login_data[\"access\"]\n",
    "token"
   ]
  },
  {
   "cell_type": "code",
   "execution_count": 18,
   "id": "11765509-cfeb-46fa-8666-dc7355bf8120",
   "metadata": {},
   "outputs": [],
   "source": [
    "# create and save key into .json file\n",
    "key_dict = {\"key\": \"savedkey\"}\n",
    "\n",
    "with open(\"credentials.json\", \"w\") as output:\n",
    "    json.dump(key_dict, output)"
   ]
  },
  {
   "cell_type": "code",
   "execution_count": 19,
   "id": "dbd596d7-1989-4ca3-9356-036bf1045ffc",
   "metadata": {},
   "outputs": [],
   "source": [
    "# access the key in the actual script\n",
    "key_json = json.load(open(\"credentials.json\"))"
   ]
  },
  {
   "cell_type": "code",
   "execution_count": 20,
   "id": "24129c7b-bce2-422e-ad99-1bc8f8928a15",
   "metadata": {},
   "outputs": [
    {
     "data": {
      "text/plain": [
       "'savedkey'"
      ]
     },
     "execution_count": 20,
     "metadata": {},
     "output_type": "execute_result"
    }
   ],
   "source": [
    "# check if the key is properly stored\n",
    "key_json[\"key\"]"
   ]
  },
  {
   "cell_type": "markdown",
   "id": "862f4b18-46d7-47c4-9186-4fbde2e8abba",
   "metadata": {},
   "source": [
    "The variable 'token' will be used in this notebook as it is more straightforward."
   ]
  },
  {
   "cell_type": "markdown",
   "id": "393a67b3-9320-4c4b-94af-242a29338fe1",
   "metadata": {},
   "source": [
    "### 3.2 GET"
   ]
  },
  {
   "cell_type": "markdown",
   "id": "ddaa535f-ab21-42e5-aa68-0c0dea42b372",
   "metadata": {},
   "source": [
    "GET is used to retrieve. No data is written to the API."
   ]
  },
  {
   "cell_type": "code",
   "execution_count": null,
   "id": "a8dc9646-2fc3-4ec2-acea-d1d2efb8420c",
   "metadata": {},
   "outputs": [],
   "source": [
    "# api to access\n",
    "https://motion.xyz.ch/backend/api"
   ]
  },
  {
   "cell_type": "code",
   "execution_count": 62,
   "id": "fe84ab49-0dbb-4091-a5e2-0cd563d1065e",
   "metadata": {},
   "outputs": [
    {
     "data": {
      "text/plain": [
       "<Response [200]>"
      ]
     },
     "execution_count": 62,
     "metadata": {},
     "output_type": "execute_result"
    }
   ],
   "source": [
    "# access api with credential stored in token variable and check OK response\n",
    "resp = requests.get(\n",
    "    \"https://motion.xyz.ch/backend/api/social/posts/me/\",\n",
    "    headers={\n",
    "        \"Authorization\": f\"Bearer {token}\",\n",
    "    },\n",
    ")\n",
    "\n",
    "resp"
   ]
  },
  {
   "cell_type": "code",
   "execution_count": null,
   "id": "64e99177-b74d-4319-8ba3-dc5d34c25b8a",
   "metadata": {},
   "outputs": [],
   "source": [
    "# check response content\n",
    "resp.content"
   ]
  },
  {
   "cell_type": "code",
   "execution_count": null,
   "id": "ad8b2705-2742-4737-8b23-3b66c966ddb7",
   "metadata": {},
   "outputs": [],
   "source": [
    "# check 'results' key in content (deserialize -> json to dictionary conversion)\n",
    "posts = resp.json()\n",
    "posts[\"results\"][:2]"
   ]
  },
  {
   "cell_type": "markdown",
   "id": "3846e968-f909-4d28-b672-1e5fecf82a7f",
   "metadata": {},
   "source": [
    "Each dictionary in the list represents a post with a unique id."
   ]
  },
  {
   "cell_type": "markdown",
   "id": "df7dc3d5-d37b-40e4-990a-a95c943b13a1",
   "metadata": {},
   "source": [
    "### 3.2 POST"
   ]
  },
  {
   "cell_type": "markdown",
   "id": "50b71027-68d3-4c2d-b235-a321f0efc3a1",
   "metadata": {},
   "source": [
    "POST is used to make a post request with the content that needs to be sent to the API."
   ]
  },
  {
   "cell_type": "code",
   "execution_count": null,
   "id": "eac9b04a-d3f5-43a2-b6f6-948a84d319da",
   "metadata": {},
   "outputs": [],
   "source": [
    "# access api with credential stored in token variable and check OK response\n",
    "resp = requests.get(\n",
    "    \"https://motion.xyz.ch/backend/api/social/posts/\",\n",
    "    headers={\n",
    "        \"Authorization\": f\"Bearer {token}\",\n",
    "        \"Content-Type\": \"application/json\"\n",
    "    },\n",
    "    \n",
    "    # write request -> serialize the python dictionary of our post data to json using .dumps()\n",
    "    data=json.dumps(\n",
    "        {\"content\": \"Post created with the request module by xxx\"}\n",
    "    ),\n",
    ")"
   ]
  },
  {
   "cell_type": "code",
   "execution_count": null,
   "id": "d789404e-638c-4cc9-a742-4a178f11801a",
   "metadata": {},
   "outputs": [],
   "source": [
    "# check content of the new post\n",
    "new_post = resp.json()\n",
    "new_post"
   ]
  },
  {
   "cell_type": "code",
   "execution_count": null,
   "id": "0617325a-4629-48bd-8465-2cea124cd153",
   "metadata": {},
   "outputs": [],
   "source": [
    "# access new post dictionary\n",
    "posts['results'][0]"
   ]
  },
  {
   "cell_type": "markdown",
   "id": "f36f5143-15fa-43ce-ac9d-587d78b35812",
   "metadata": {},
   "source": [
    "### 3.3 PATCH"
   ]
  },
  {
   "cell_type": "markdown",
   "id": "9631098c-59be-46cd-a797-799e7fc841d5",
   "metadata": {},
   "source": [
    "PATCH is used to update existing content, which we usually need to access with the id."
   ]
  },
  {
   "cell_type": "code",
   "execution_count": null,
   "id": "405adaca-6f42-4f19-9759-1e43973337b9",
   "metadata": {},
   "outputs": [],
   "source": [
    "# select specific id (i.e. 3052) to change the content inside\n",
    "resp = requests.patch(\n",
    "    \"https://motion.xyz.ch/backend/api/social/posts/3052/\",\n",
    "    headers={\"Authorization\": f\"Bearer {token}\", \n",
    "             \"Content-Type\": \"application/json\"},\n",
    "    \n",
    "    data=json.dumps(\n",
    "        {\"content\": \"Post created with the request module by xxx UPDATED!!!\"}\n",
    "    ),\n",
    ")"
   ]
  },
  {
   "cell_type": "code",
   "execution_count": null,
   "id": "e4435b57-b852-4e08-8f72-3096956fea40",
   "metadata": {},
   "outputs": [],
   "source": [
    "# check content of the update post\n",
    "updated_post = resp.json()\n",
    "updated_post"
   ]
  },
  {
   "cell_type": "markdown",
   "id": "d47602f5-80db-416d-a0db-c1cb1ea95216",
   "metadata": {},
   "source": [
    "### 3.4 DELETE"
   ]
  },
  {
   "cell_type": "markdown",
   "id": "8b828c00-c5b9-47b5-91f7-9ef15ab998d3",
   "metadata": {},
   "source": [
    "The DELETE request to the same URL will delete the specific targeted content (in this case the post on the social media)."
   ]
  },
  {
   "cell_type": "code",
   "execution_count": null,
   "id": "da426652-a8c9-495b-89aa-9201b47bb491",
   "metadata": {},
   "outputs": [],
   "source": [
    "# select specific id (i.e. 3052) to be deleted\n",
    "resp = requests.delete(\n",
    "    \"https://motion.xyz.ch/backend/api/social/posts/3052/\",\n",
    "    headers={\"Authorization\": f\"Bearer {token}\"},\n",
    ")\n",
    "\n",
    "# print status code to confirm deletion (204 -> resource deleted)\n",
    "print(resp.status_code)"
   ]
  }
 ],
 "metadata": {
  "kernelspec": {
   "display_name": "projects",
   "language": "python",
   "name": "projects"
  },
  "language_info": {
   "codemirror_mode": {
    "name": "ipython",
    "version": 3
   },
   "file_extension": ".py",
   "mimetype": "text/x-python",
   "name": "python",
   "nbconvert_exporter": "python",
   "pygments_lexer": "ipython3",
   "version": "3.10.9"
  }
 },
 "nbformat": 4,
 "nbformat_minor": 5
}
